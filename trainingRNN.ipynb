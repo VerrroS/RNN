{
 "cells": [
  {
   "cell_type": "code",
   "execution_count": 1,
   "metadata": {
    "dotnet_interactive": {
     "language": "csharp"
    },
    "polyglot_notebook": {
     "kernelName": "csharp"
    }
   },
   "outputs": [],
   "source": [
    "import numpy as np\n",
    "import tensorflow as tf\n",
    "from tensorflow.keras.preprocessing.text import Tokenizer\n",
    "from tensorflow.keras.preprocessing.sequence import pad_sequences\n",
    "from tensorflow.keras.models import Sequential\n",
    "from tensorflow.keras.layers import Embedding, LSTM, Dense\n",
    "import json\n",
    "import tensorflowjs as tfjs"
   ]
  },
  {
   "cell_type": "markdown",
   "metadata": {},
   "source": [
    "## Import Text"
   ]
  },
  {
   "cell_type": "code",
   "execution_count": 2,
   "metadata": {},
   "outputs": [],
   "source": [
    "with open(\"./trainingData/sherlockS.txt\", 'r', encoding='utf-8') as myfile:\n",
    "    mytext = myfile.read()"
   ]
  },
  {
   "cell_type": "markdown",
   "metadata": {},
   "source": [
    "## Tokenize Text"
   ]
  },
  {
   "cell_type": "code",
   "execution_count": 3,
   "metadata": {},
   "outputs": [],
   "source": [
    "mytokenizer = Tokenizer()\n",
    "mytokenizer.fit_on_texts([mytext])\n",
    "total_words = len(mytokenizer.word_index) + 1"
   ]
  },
  {
   "cell_type": "code",
   "execution_count": 4,
   "metadata": {},
   "outputs": [],
   "source": [
    "my_input_sequences = []\n",
    "for line in mytext.split('\\n'):\n",
    "    token_list = mytokenizer.texts_to_sequences([line])[0]\n",
    "    for i in range(1, len(token_list)):\n",
    "        my_n_gram_sequence = token_list[:i+1]\n",
    "        my_input_sequences.append(my_n_gram_sequence)"
   ]
  },
  {
   "cell_type": "code",
   "execution_count": 5,
   "metadata": {},
   "outputs": [],
   "source": [
    "max_sequence_len = max([len(seq) for seq in my_input_sequences])\n",
    "input_sequences = np.array(pad_sequences(my_input_sequences, maxlen=max_sequence_len, padding='pre'))"
   ]
  },
  {
   "cell_type": "code",
   "execution_count": 6,
   "metadata": {},
   "outputs": [],
   "source": [
    "X = input_sequences[:, :-1]\n",
    "y = input_sequences[:, -1]"
   ]
  },
  {
   "cell_type": "code",
   "execution_count": 7,
   "metadata": {},
   "outputs": [],
   "source": [
    "y = np.array(tf.keras.utils.to_categorical(y, num_classes=total_words))"
   ]
  },
  {
   "cell_type": "markdown",
   "metadata": {},
   "source": [
    "## Create Model Architecture"
   ]
  },
  {
   "cell_type": "code",
   "execution_count": 8,
   "metadata": {},
   "outputs": [
    {
     "name": "stdout",
     "output_type": "stream",
     "text": [
      "Model: \"sequential\"\n",
      "_________________________________________________________________\n",
      " Layer (type)                Output Shape              Param #   \n",
      "=================================================================\n",
      " embedding (Embedding)       (None, 15, 100)           95400     \n",
      "                                                                 \n",
      " lstm (LSTM)                 (None, 150)               150600    \n",
      "                                                                 \n",
      " dense (Dense)               (None, 954)               144054    \n",
      "                                                                 \n",
      "=================================================================\n",
      "Total params: 390054 (1.49 MB)\n",
      "Trainable params: 390054 (1.49 MB)\n",
      "Non-trainable params: 0 (0.00 Byte)\n",
      "_________________________________________________________________\n",
      "None\n"
     ]
    }
   ],
   "source": [
    "model = Sequential()\n",
    "model.add(Embedding(total_words, 100, input_length=max_sequence_len-1))\n",
    "model.add(LSTM(150))\n",
    "model.add(Dense(total_words, activation='softmax'))\n",
    "print(model.summary())"
   ]
  },
  {
   "cell_type": "markdown",
   "metadata": {},
   "source": [
    "## Train Model"
   ]
  },
  {
   "cell_type": "code",
   "execution_count": 9,
   "metadata": {},
   "outputs": [
    {
     "name": "stdout",
     "output_type": "stream",
     "text": [
      "Epoch 1/100\n",
      "73/73 [==============================] - 3s 16ms/step - loss: 6.3430 - accuracy: 0.0335\n",
      "Epoch 2/100\n",
      "73/73 [==============================] - 1s 16ms/step - loss: 5.8271 - accuracy: 0.0335\n",
      "Epoch 3/100\n",
      "73/73 [==============================] - 1s 15ms/step - loss: 5.6830 - accuracy: 0.0442\n",
      "Epoch 4/100\n",
      "73/73 [==============================] - 1s 15ms/step - loss: 5.5634 - accuracy: 0.0506\n",
      "Epoch 5/100\n",
      "73/73 [==============================] - 1s 15ms/step - loss: 5.4645 - accuracy: 0.0549\n",
      "Epoch 6/100\n",
      "73/73 [==============================] - 1s 16ms/step - loss: 5.3612 - accuracy: 0.0622\n",
      "Epoch 7/100\n",
      "73/73 [==============================] - 1s 16ms/step - loss: 5.2592 - accuracy: 0.0605\n",
      "Epoch 8/100\n",
      "73/73 [==============================] - 1s 16ms/step - loss: 5.1408 - accuracy: 0.0729\n",
      "Epoch 9/100\n",
      "73/73 [==============================] - 1s 16ms/step - loss: 5.0336 - accuracy: 0.0819\n",
      "Epoch 10/100\n",
      "73/73 [==============================] - 1s 16ms/step - loss: 4.9246 - accuracy: 0.0879\n",
      "Epoch 11/100\n",
      "73/73 [==============================] - 1s 16ms/step - loss: 4.8098 - accuracy: 0.1008\n",
      "Epoch 12/100\n",
      "73/73 [==============================] - 1s 16ms/step - loss: 4.6937 - accuracy: 0.1175\n",
      "Epoch 13/100\n",
      "73/73 [==============================] - 1s 17ms/step - loss: 4.5680 - accuracy: 0.1416\n",
      "Epoch 14/100\n",
      "73/73 [==============================] - 1s 16ms/step - loss: 4.4398 - accuracy: 0.1527\n",
      "Epoch 15/100\n",
      "73/73 [==============================] - 1s 17ms/step - loss: 4.3111 - accuracy: 0.1609\n",
      "Epoch 16/100\n",
      "73/73 [==============================] - 1s 16ms/step - loss: 4.1745 - accuracy: 0.1793\n",
      "Epoch 17/100\n",
      "73/73 [==============================] - 1s 15ms/step - loss: 4.0473 - accuracy: 0.1926\n",
      "Epoch 18/100\n",
      "73/73 [==============================] - 1s 16ms/step - loss: 3.9044 - accuracy: 0.2141\n",
      "Epoch 19/100\n",
      "73/73 [==============================] - 1s 16ms/step - loss: 3.7704 - accuracy: 0.2355\n",
      "Epoch 20/100\n",
      "73/73 [==============================] - 1s 16ms/step - loss: 3.6330 - accuracy: 0.2540\n",
      "Epoch 21/100\n",
      "73/73 [==============================] - 1s 16ms/step - loss: 3.4975 - accuracy: 0.2771\n",
      "Epoch 22/100\n",
      "73/73 [==============================] - 1s 17ms/step - loss: 3.3630 - accuracy: 0.3067\n",
      "Epoch 23/100\n",
      "73/73 [==============================] - 1s 16ms/step - loss: 3.2295 - accuracy: 0.3265\n",
      "Epoch 24/100\n",
      "73/73 [==============================] - 1s 15ms/step - loss: 3.0962 - accuracy: 0.3531\n",
      "Epoch 25/100\n",
      "73/73 [==============================] - 1s 16ms/step - loss: 2.9650 - accuracy: 0.3844\n",
      "Epoch 26/100\n",
      "73/73 [==============================] - 1s 16ms/step - loss: 2.8363 - accuracy: 0.4067\n",
      "Epoch 27/100\n",
      "73/73 [==============================] - 1s 16ms/step - loss: 2.7120 - accuracy: 0.4307\n",
      "Epoch 28/100\n",
      "73/73 [==============================] - 1s 17ms/step - loss: 2.5827 - accuracy: 0.4625\n",
      "Epoch 29/100\n",
      "73/73 [==============================] - 1s 16ms/step - loss: 2.4638 - accuracy: 0.4818\n",
      "Epoch 30/100\n",
      "73/73 [==============================] - 1s 16ms/step - loss: 2.3437 - accuracy: 0.5139\n",
      "Epoch 31/100\n",
      "73/73 [==============================] - 1s 16ms/step - loss: 2.2267 - accuracy: 0.5363\n",
      "Epoch 32/100\n",
      "73/73 [==============================] - 1s 16ms/step - loss: 2.1169 - accuracy: 0.5530\n",
      "Epoch 33/100\n",
      "73/73 [==============================] - 1s 17ms/step - loss: 2.0071 - accuracy: 0.5817\n",
      "Epoch 34/100\n",
      "73/73 [==============================] - 1s 16ms/step - loss: 1.9041 - accuracy: 0.6100\n",
      "Epoch 35/100\n",
      "73/73 [==============================] - 1s 16ms/step - loss: 1.8058 - accuracy: 0.6384\n",
      "Epoch 36/100\n",
      "73/73 [==============================] - 1s 16ms/step - loss: 1.7087 - accuracy: 0.6641\n",
      "Epoch 37/100\n",
      "73/73 [==============================] - 1s 16ms/step - loss: 1.6158 - accuracy: 0.6834\n",
      "Epoch 38/100\n",
      "73/73 [==============================] - 1s 16ms/step - loss: 1.5294 - accuracy: 0.7006\n",
      "Epoch 39/100\n",
      "73/73 [==============================] - 1s 16ms/step - loss: 1.4483 - accuracy: 0.7310\n",
      "Epoch 40/100\n",
      "73/73 [==============================] - 1s 16ms/step - loss: 1.3668 - accuracy: 0.7473\n",
      "Epoch 41/100\n",
      "73/73 [==============================] - 1s 16ms/step - loss: 1.2925 - accuracy: 0.7701\n",
      "Epoch 42/100\n",
      "73/73 [==============================] - 1s 16ms/step - loss: 1.2229 - accuracy: 0.7821\n",
      "Epoch 43/100\n",
      "73/73 [==============================] - 1s 16ms/step - loss: 1.1541 - accuracy: 0.7979\n",
      "Epoch 44/100\n",
      "73/73 [==============================] - 1s 16ms/step - loss: 1.0920 - accuracy: 0.8104\n",
      "Epoch 45/100\n",
      "73/73 [==============================] - 1s 16ms/step - loss: 1.0302 - accuracy: 0.8220\n",
      "Epoch 46/100\n",
      "73/73 [==============================] - 1s 16ms/step - loss: 0.9736 - accuracy: 0.8301\n",
      "Epoch 47/100\n",
      "73/73 [==============================] - 1s 16ms/step - loss: 0.9215 - accuracy: 0.8464\n",
      "Epoch 48/100\n",
      "73/73 [==============================] - 1s 16ms/step - loss: 0.8715 - accuracy: 0.8571\n",
      "Epoch 49/100\n",
      "73/73 [==============================] - 1s 16ms/step - loss: 0.8246 - accuracy: 0.8662\n",
      "Epoch 50/100\n",
      "73/73 [==============================] - 1s 16ms/step - loss: 0.7800 - accuracy: 0.8820\n",
      "Epoch 51/100\n",
      "73/73 [==============================] - 1s 16ms/step - loss: 0.7363 - accuracy: 0.8842\n",
      "Epoch 52/100\n",
      "73/73 [==============================] - 1s 16ms/step - loss: 0.6982 - accuracy: 0.8962\n",
      "Epoch 53/100\n",
      "73/73 [==============================] - 1s 16ms/step - loss: 0.6603 - accuracy: 0.9039\n",
      "Epoch 54/100\n",
      "73/73 [==============================] - 1s 16ms/step - loss: 0.6263 - accuracy: 0.9108\n",
      "Epoch 55/100\n",
      "73/73 [==============================] - 1s 16ms/step - loss: 0.5903 - accuracy: 0.9159\n",
      "Epoch 56/100\n",
      "73/73 [==============================] - 1s 16ms/step - loss: 0.5575 - accuracy: 0.9202\n",
      "Epoch 57/100\n",
      "73/73 [==============================] - 1s 16ms/step - loss: 0.5287 - accuracy: 0.9219\n",
      "Epoch 58/100\n",
      "73/73 [==============================] - 1s 16ms/step - loss: 0.5025 - accuracy: 0.9249\n",
      "Epoch 59/100\n",
      "73/73 [==============================] - 1s 16ms/step - loss: 0.4765 - accuracy: 0.9301\n",
      "Epoch 60/100\n",
      "73/73 [==============================] - 1s 16ms/step - loss: 0.4522 - accuracy: 0.9322\n",
      "Epoch 61/100\n",
      "73/73 [==============================] - 1s 16ms/step - loss: 0.4280 - accuracy: 0.9344\n",
      "Epoch 62/100\n",
      "73/73 [==============================] - 1s 16ms/step - loss: 0.4072 - accuracy: 0.9374\n",
      "Epoch 63/100\n",
      "73/73 [==============================] - 1s 16ms/step - loss: 0.3871 - accuracy: 0.9404\n",
      "Epoch 64/100\n",
      "73/73 [==============================] - 1s 16ms/step - loss: 0.3697 - accuracy: 0.9447\n",
      "Epoch 65/100\n",
      "73/73 [==============================] - 1s 16ms/step - loss: 0.3505 - accuracy: 0.9455\n",
      "Epoch 66/100\n",
      "73/73 [==============================] - 1s 16ms/step - loss: 0.3355 - accuracy: 0.9455\n",
      "Epoch 67/100\n",
      "73/73 [==============================] - 1s 16ms/step - loss: 0.3191 - accuracy: 0.9507\n",
      "Epoch 68/100\n",
      "73/73 [==============================] - 1s 16ms/step - loss: 0.3047 - accuracy: 0.9477\n",
      "Epoch 69/100\n",
      "73/73 [==============================] - 1s 16ms/step - loss: 0.2910 - accuracy: 0.9489\n",
      "Epoch 70/100\n",
      "73/73 [==============================] - 1s 16ms/step - loss: 0.2796 - accuracy: 0.9511\n",
      "Epoch 71/100\n",
      "73/73 [==============================] - 1s 16ms/step - loss: 0.2665 - accuracy: 0.9528\n",
      "Epoch 72/100\n",
      "73/73 [==============================] - 1s 16ms/step - loss: 0.2561 - accuracy: 0.9532\n",
      "Epoch 73/100\n",
      "73/73 [==============================] - 1s 16ms/step - loss: 0.2449 - accuracy: 0.9511\n",
      "Epoch 74/100\n",
      "73/73 [==============================] - 1s 16ms/step - loss: 0.2368 - accuracy: 0.9520\n",
      "Epoch 75/100\n",
      "73/73 [==============================] - 1s 16ms/step - loss: 0.2269 - accuracy: 0.9558\n",
      "Epoch 76/100\n",
      "73/73 [==============================] - 1s 16ms/step - loss: 0.2173 - accuracy: 0.9545\n",
      "Epoch 77/100\n",
      "73/73 [==============================] - 1s 16ms/step - loss: 0.2097 - accuracy: 0.9588\n",
      "Epoch 78/100\n",
      "73/73 [==============================] - 1s 16ms/step - loss: 0.2020 - accuracy: 0.9571\n",
      "Epoch 79/100\n",
      "73/73 [==============================] - 1s 16ms/step - loss: 0.1957 - accuracy: 0.9554\n",
      "Epoch 80/100\n",
      "73/73 [==============================] - 1s 16ms/step - loss: 0.1894 - accuracy: 0.9554\n",
      "Epoch 81/100\n",
      "73/73 [==============================] - 1s 16ms/step - loss: 0.1815 - accuracy: 0.9567\n",
      "Epoch 82/100\n",
      "73/73 [==============================] - 1s 16ms/step - loss: 0.1767 - accuracy: 0.9550\n",
      "Epoch 83/100\n",
      "73/73 [==============================] - 1s 16ms/step - loss: 0.1719 - accuracy: 0.9567\n",
      "Epoch 84/100\n",
      "73/73 [==============================] - 1s 16ms/step - loss: 0.1654 - accuracy: 0.9567\n",
      "Epoch 85/100\n",
      "73/73 [==============================] - 1s 16ms/step - loss: 0.1614 - accuracy: 0.9545\n",
      "Epoch 86/100\n",
      "73/73 [==============================] - 1s 16ms/step - loss: 0.1563 - accuracy: 0.9562\n",
      "Epoch 87/100\n",
      "73/73 [==============================] - 1s 16ms/step - loss: 0.1526 - accuracy: 0.9541\n",
      "Epoch 88/100\n",
      "73/73 [==============================] - 1s 16ms/step - loss: 0.1495 - accuracy: 0.9571\n",
      "Epoch 89/100\n",
      "73/73 [==============================] - 1s 16ms/step - loss: 0.1446 - accuracy: 0.9567\n",
      "Epoch 90/100\n",
      "73/73 [==============================] - 1s 16ms/step - loss: 0.1414 - accuracy: 0.9584\n",
      "Epoch 91/100\n",
      "73/73 [==============================] - 1s 16ms/step - loss: 0.1384 - accuracy: 0.9571\n",
      "Epoch 92/100\n",
      "73/73 [==============================] - 1s 16ms/step - loss: 0.1359 - accuracy: 0.9567\n",
      "Epoch 93/100\n",
      "73/73 [==============================] - 1s 16ms/step - loss: 0.1322 - accuracy: 0.9575\n",
      "Epoch 94/100\n",
      "73/73 [==============================] - 1s 16ms/step - loss: 0.1310 - accuracy: 0.9571\n",
      "Epoch 95/100\n",
      "73/73 [==============================] - 1s 16ms/step - loss: 0.1269 - accuracy: 0.9571\n",
      "Epoch 96/100\n",
      "73/73 [==============================] - 1s 16ms/step - loss: 0.1244 - accuracy: 0.9575\n",
      "Epoch 97/100\n",
      "73/73 [==============================] - 1s 16ms/step - loss: 0.1224 - accuracy: 0.9584\n",
      "Epoch 98/100\n",
      "73/73 [==============================] - 1s 16ms/step - loss: 0.1211 - accuracy: 0.9575\n",
      "Epoch 99/100\n",
      "73/73 [==============================] - 1s 16ms/step - loss: 0.1182 - accuracy: 0.9562\n",
      "Epoch 100/100\n",
      "73/73 [==============================] - 1s 16ms/step - loss: 0.1165 - accuracy: 0.9588\n"
     ]
    },
    {
     "data": {
      "text/plain": [
       "<keras.src.callbacks.History at 0x1fe8986f810>"
      ]
     },
     "execution_count": 9,
     "metadata": {},
     "output_type": "execute_result"
    }
   ],
   "source": [
    "model.compile(loss='categorical_crossentropy', optimizer='adam', metrics=['accuracy'])\n",
    "model.fit(X, y, epochs=100, verbose=1)"
   ]
  },
  {
   "cell_type": "markdown",
   "metadata": {},
   "source": [
    "## Save Model for JS"
   ]
  },
  {
   "cell_type": "code",
   "execution_count": 10,
   "metadata": {},
   "outputs": [
    {
     "name": "stderr",
     "output_type": "stream",
     "text": [
      "C:\\Users\\lusti\\AppData\\Local\\Packages\\PythonSoftwareFoundation.Python.3.11_qbz5n2kfra8p0\\LocalCache\\local-packages\\Python311\\site-packages\\keras\\src\\engine\\training.py:3000: UserWarning: You are saving your model as an HDF5 file via `model.save()`. This file format is considered legacy. We recommend using instead the native Keras format, e.g. `model.save('my_model.keras')`.\n",
      "  saving_api.save_model(\n"
     ]
    }
   ],
   "source": [
    "\n",
    "output_dir = \"./tfjs_models/RNN\" \n",
    "tfjs.converters.save_keras_model(model, output_dir)"
   ]
  },
  {
   "cell_type": "markdown",
   "metadata": {},
   "source": [
    "## Save word index"
   ]
  },
  {
   "cell_type": "code",
   "execution_count": 11,
   "metadata": {},
   "outputs": [],
   "source": [
    "wordIndex = {}\n",
    "for word in mytokenizer.word_index:\n",
    "    wordIndex[word] = mytokenizer.word_index[word]\n",
    "\n",
    "with open('./tfjs_models/RNN/wordIndex.json', 'w', encoding='utf-8') as f:\n",
    "    f.write(json.dumps(wordIndex, ensure_ascii=False))"
   ]
  },
  {
   "cell_type": "markdown",
   "metadata": {},
   "source": [
    "## Save Max Sequence Length"
   ]
  },
  {
   "cell_type": "code",
   "execution_count": 12,
   "metadata": {},
   "outputs": [],
   "source": [
    "with open('./tfjs_models/RNN/max_sequence_len.txt', 'w') as f:\n",
    "    f.write(str(max_sequence_len))"
   ]
  }
 ],
 "metadata": {
  "kernelspec": {
   "display_name": "Python 3",
   "language": "python",
   "name": "python3"
  },
  "language_info": {
   "codemirror_mode": {
    "name": "ipython",
    "version": 3
   },
   "file_extension": ".py",
   "mimetype": "text/x-python",
   "name": "python",
   "nbconvert_exporter": "python",
   "pygments_lexer": "ipython3",
   "version": "3.11.5"
  },
  "orig_nbformat": 4,
  "polyglot_notebook": {
   "kernelInfo": {
    "defaultKernelName": "csharp",
    "items": [
     {
      "aliases": [],
      "name": "csharp"
     }
    ]
   }
  }
 },
 "nbformat": 4,
 "nbformat_minor": 2
}
