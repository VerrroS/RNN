{
 "cells": [
  {
   "cell_type": "code",
   "execution_count": 11,
   "metadata": {
    "dotnet_interactive": {
     "language": "csharp"
    },
    "polyglot_notebook": {
     "kernelName": "csharp"
    }
   },
   "outputs": [],
   "source": [
    "import numpy as np\n",
    "import tensorflow as tf\n",
    "from tensorflow.keras.preprocessing.text import Tokenizer\n",
    "from tensorflow.keras.preprocessing.sequence import pad_sequences\n",
    "from tensorflow.keras.models import Sequential\n",
    "from tensorflow.keras.layers import Embedding, LSTM, Dense\n",
    "import json\n",
    "import tensorflowjs as tfjs"
   ]
  },
  {
   "cell_type": "markdown",
   "metadata": {},
   "source": [
    "## Import Text"
   ]
  },
  {
   "cell_type": "code",
   "execution_count": 12,
   "metadata": {},
   "outputs": [],
   "source": [
    "with open(\"./trainingData/sherlockS.txt\", 'r', encoding='utf-8') as file:\n",
    "    text = file.read()"
   ]
  },
  {
   "cell_type": "markdown",
   "metadata": {},
   "source": [
    "## Tokenize Text"
   ]
  },
  {
   "cell_type": "code",
   "execution_count": 13,
   "metadata": {},
   "outputs": [],
   "source": [
    "tokenizer = Tokenizer()\n",
    "tokenizer.fit_on_texts([text])\n",
    "total_words = len(tokenizer.word_index) + 1"
   ]
  },
  {
   "cell_type": "code",
   "execution_count": 14,
   "metadata": {},
   "outputs": [
    {
     "name": "stdout",
     "output_type": "stream",
     "text": [
      "[[268, 61], [268, 61, 19], [268, 61, 19, 93], [268, 61, 19, 93, 14], [268, 61, 19, 93, 14, 94], [268, 61, 19, 93, 14, 94, 1], [268, 61, 19, 93, 14, 94, 1, 95], [268, 61, 19, 93, 14, 94, 1, 95, 6], [18, 145], [18, 145, 96], [18, 145, 96, 62], [18, 145, 96, 62, 269], [18, 145, 96, 62, 269, 97], [18, 145, 96, 62, 269, 97, 146], [18, 145, 96, 62, 269, 97, 146, 147], [98, 148], [98, 148, 10], [98, 148, 10, 7], [98, 148, 10, 7, 63], [98, 148, 10, 7, 63, 93]]\n"
     ]
    }
   ],
   "source": [
    "input_sequences = []\n",
    "for line in text.split('\\n'):\n",
    "    token_list = tokenizer.texts_to_sequences([line])[0]\n",
    "    for i in range(1, len(token_list)):\n",
    "        n_gram_sequence = token_list[:i+1]\n",
    "        input_sequences.append(n_gram_sequence)\n",
    "\n",
    "print(input_sequences[:20])"
   ]
  },
  {
   "cell_type": "code",
   "execution_count": 15,
   "metadata": {},
   "outputs": [
    {
     "name": "stdout",
     "output_type": "stream",
     "text": [
      "[[  0   0   0   0   0   0   0   0   0   0   0   0   0   0 268  61]\n",
      " [  0   0   0   0   0   0   0   0   0   0   0   0   0 268  61  19]\n",
      " [  0   0   0   0   0   0   0   0   0   0   0   0 268  61  19  93]\n",
      " [  0   0   0   0   0   0   0   0   0   0   0 268  61  19  93  14]\n",
      " [  0   0   0   0   0   0   0   0   0   0 268  61  19  93  14  94]\n",
      " [  0   0   0   0   0   0   0   0   0 268  61  19  93  14  94   1]\n",
      " [  0   0   0   0   0   0   0   0 268  61  19  93  14  94   1  95]\n",
      " [  0   0   0   0   0   0   0 268  61  19  93  14  94   1  95   6]]\n"
     ]
    }
   ],
   "source": [
    "max_sequence_len = max([len(seq) for seq in input_sequences])\n",
    "input_sequences = np.array(pad_sequences(input_sequences, maxlen=max_sequence_len, padding='pre'))\n",
    "\n",
    "print(input_sequences[:8])"
   ]
  },
  {
   "cell_type": "code",
   "execution_count": 16,
   "metadata": {},
   "outputs": [
    {
     "name": "stdout",
     "output_type": "stream",
     "text": [
      "[ 0  0  0  0  0  0  0  0  0  0  0  0  0  0 18]\n",
      "145\n"
     ]
    }
   ],
   "source": [
    "X = input_sequences[:, :-1]\n",
    "y = input_sequences[:, -1]\n",
    "\n",
    "print(X[8])\n",
    "print(y[8])"
   ]
  },
  {
   "cell_type": "code",
   "execution_count": 17,
   "metadata": {},
   "outputs": [],
   "source": [
    "y = np.array(tf.keras.utils.to_categorical(y, num_classes=total_words))"
   ]
  },
  {
   "cell_type": "markdown",
   "metadata": {},
   "source": [
    "## Create Model Architecture"
   ]
  },
  {
   "cell_type": "code",
   "execution_count": 24,
   "metadata": {},
   "outputs": [
    {
     "name": "stdout",
     "output_type": "stream",
     "text": [
      "Model: \"sequential_2\"\n",
      "_________________________________________________________________\n",
      " Layer (type)                Output Shape              Param #   \n",
      "=================================================================\n",
      " embedding_2 (Embedding)     (None, 15, 150)           139500    \n",
      "                                                                 \n",
      " lstm_2 (LSTM)               (None, 300)               541200    \n",
      "                                                                 \n",
      " dense_2 (Dense)             (None, 930)               279930    \n",
      "                                                                 \n",
      "=================================================================\n",
      "Total params: 960630 (3.66 MB)\n",
      "Trainable params: 960630 (3.66 MB)\n",
      "Non-trainable params: 0 (0.00 Byte)\n",
      "_________________________________________________________________\n",
      "None\n"
     ]
    }
   ],
   "source": [
    "model = Sequential()\n",
    "model.add(Embedding(total_words, 150, input_length=max_sequence_len-1))\n",
    "model.add(LSTM(300))\n",
    "model.add(Dense(total_words, activation='softmax'))\n",
    "print(model.summary())"
   ]
  },
  {
   "cell_type": "markdown",
   "metadata": {},
   "source": [
    "## Train Model"
   ]
  },
  {
   "cell_type": "code",
   "execution_count": 25,
   "metadata": {},
   "outputs": [
    {
     "name": "stdout",
     "output_type": "stream",
     "text": [
      "Epoch 1/100\n"
     ]
    },
    {
     "name": "stdout",
     "output_type": "stream",
     "text": [
      "71/71 [==============================] - 4s 35ms/step - loss: 6.3009 - accuracy: 0.0382\n",
      "Epoch 2/100\n",
      "71/71 [==============================] - 2s 34ms/step - loss: 5.8172 - accuracy: 0.0382\n",
      "Epoch 3/100\n",
      "71/71 [==============================] - 2s 35ms/step - loss: 5.6573 - accuracy: 0.0493\n",
      "Epoch 4/100\n",
      "71/71 [==============================] - 2s 34ms/step - loss: 5.5165 - accuracy: 0.0547\n",
      "Epoch 5/100\n",
      "71/71 [==============================] - 2s 34ms/step - loss: 5.3565 - accuracy: 0.0644\n",
      "Epoch 6/100\n",
      "71/71 [==============================] - 2s 34ms/step - loss: 5.1564 - accuracy: 0.0764\n",
      "Epoch 7/100\n",
      "71/71 [==============================] - 2s 34ms/step - loss: 4.9114 - accuracy: 0.0942\n",
      "Epoch 8/100\n",
      "71/71 [==============================] - 2s 34ms/step - loss: 4.6189 - accuracy: 0.1204\n",
      "Epoch 9/100\n",
      "71/71 [==============================] - 2s 34ms/step - loss: 4.2866 - accuracy: 0.1591\n",
      "Epoch 10/100\n",
      "71/71 [==============================] - 2s 34ms/step - loss: 3.9435 - accuracy: 0.1973\n",
      "Epoch 11/100\n",
      "71/71 [==============================] - 2s 34ms/step - loss: 3.5718 - accuracy: 0.2444\n",
      "Epoch 12/100\n",
      "71/71 [==============================] - 2s 34ms/step - loss: 3.2075 - accuracy: 0.3067\n",
      "Epoch 13/100\n",
      "71/71 [==============================] - 2s 34ms/step - loss: 2.8684 - accuracy: 0.3844\n",
      "Epoch 14/100\n",
      "71/71 [==============================] - 3s 35ms/step - loss: 2.5199 - accuracy: 0.4756\n",
      "Epoch 15/100\n",
      "71/71 [==============================] - 2s 35ms/step - loss: 2.1968 - accuracy: 0.5591\n",
      "Epoch 16/100\n",
      "71/71 [==============================] - 2s 35ms/step - loss: 1.9094 - accuracy: 0.6316\n",
      "Epoch 17/100\n",
      "71/71 [==============================] - 2s 35ms/step - loss: 1.6444 - accuracy: 0.7004\n",
      "Epoch 18/100\n",
      "71/71 [==============================] - 2s 35ms/step - loss: 1.4116 - accuracy: 0.7467\n",
      "Epoch 19/100\n",
      "71/71 [==============================] - 2s 35ms/step - loss: 1.2155 - accuracy: 0.7947\n",
      "Epoch 20/100\n",
      "71/71 [==============================] - 2s 34ms/step - loss: 1.0449 - accuracy: 0.8267\n",
      "Epoch 21/100\n",
      "71/71 [==============================] - 2s 34ms/step - loss: 0.8950 - accuracy: 0.8631\n",
      "Epoch 22/100\n",
      "71/71 [==============================] - 2s 34ms/step - loss: 0.7796 - accuracy: 0.8831\n",
      "Epoch 23/100\n",
      "71/71 [==============================] - 2s 35ms/step - loss: 0.6758 - accuracy: 0.8956\n",
      "Epoch 24/100\n",
      "71/71 [==============================] - 2s 34ms/step - loss: 0.5904 - accuracy: 0.9116\n",
      "Epoch 25/100\n",
      "71/71 [==============================] - 2s 34ms/step - loss: 0.5206 - accuracy: 0.9236\n",
      "Epoch 26/100\n",
      "71/71 [==============================] - 2s 35ms/step - loss: 0.4645 - accuracy: 0.9284\n",
      "Epoch 27/100\n",
      "71/71 [==============================] - 2s 35ms/step - loss: 0.4096 - accuracy: 0.9356\n",
      "Epoch 28/100\n",
      "71/71 [==============================] - 2s 34ms/step - loss: 0.3710 - accuracy: 0.9400\n",
      "Epoch 29/100\n",
      "71/71 [==============================] - 2s 34ms/step - loss: 0.3361 - accuracy: 0.9431\n",
      "Epoch 30/100\n",
      "71/71 [==============================] - 2s 35ms/step - loss: 0.3079 - accuracy: 0.9422\n",
      "Epoch 31/100\n",
      "71/71 [==============================] - 2s 34ms/step - loss: 0.2796 - accuracy: 0.9453\n",
      "Epoch 32/100\n",
      "71/71 [==============================] - 2s 35ms/step - loss: 0.2589 - accuracy: 0.9462\n",
      "Epoch 33/100\n",
      "71/71 [==============================] - 2s 34ms/step - loss: 0.2387 - accuracy: 0.9476\n",
      "Epoch 34/100\n",
      "71/71 [==============================] - 2s 34ms/step - loss: 0.2238 - accuracy: 0.9489\n",
      "Epoch 35/100\n",
      "71/71 [==============================] - 2s 35ms/step - loss: 0.2131 - accuracy: 0.9498\n",
      "Epoch 36/100\n",
      "71/71 [==============================] - 2s 35ms/step - loss: 0.1975 - accuracy: 0.9529\n",
      "Epoch 37/100\n",
      "71/71 [==============================] - 2s 34ms/step - loss: 0.1894 - accuracy: 0.9542\n",
      "Epoch 38/100\n",
      "71/71 [==============================] - 2s 34ms/step - loss: 0.1836 - accuracy: 0.9533\n",
      "Epoch 39/100\n",
      "71/71 [==============================] - 2s 35ms/step - loss: 0.1741 - accuracy: 0.9547\n",
      "Epoch 40/100\n",
      "71/71 [==============================] - 2s 35ms/step - loss: 0.1682 - accuracy: 0.9529\n",
      "Epoch 41/100\n",
      "71/71 [==============================] - 2s 35ms/step - loss: 0.1605 - accuracy: 0.9533\n",
      "Epoch 42/100\n",
      "71/71 [==============================] - 2s 34ms/step - loss: 0.1556 - accuracy: 0.9520\n",
      "Epoch 43/100\n",
      "71/71 [==============================] - 2s 34ms/step - loss: 0.1537 - accuracy: 0.9502\n",
      "Epoch 44/100\n",
      "71/71 [==============================] - 2s 35ms/step - loss: 0.1487 - accuracy: 0.9520\n",
      "Epoch 45/100\n",
      "71/71 [==============================] - 2s 35ms/step - loss: 0.1464 - accuracy: 0.9538\n",
      "Epoch 46/100\n",
      "71/71 [==============================] - 2s 35ms/step - loss: 0.1405 - accuracy: 0.9533\n",
      "Epoch 47/100\n",
      "71/71 [==============================] - 2s 35ms/step - loss: 0.1371 - accuracy: 0.9529\n",
      "Epoch 48/100\n",
      "71/71 [==============================] - 2s 34ms/step - loss: 0.1349 - accuracy: 0.9520\n",
      "Epoch 49/100\n",
      "71/71 [==============================] - 2s 35ms/step - loss: 0.1331 - accuracy: 0.9529\n",
      "Epoch 50/100\n",
      "71/71 [==============================] - 2s 35ms/step - loss: 0.1341 - accuracy: 0.9538\n",
      "Epoch 51/100\n",
      "71/71 [==============================] - 2s 35ms/step - loss: 0.1288 - accuracy: 0.9542\n",
      "Epoch 52/100\n",
      "71/71 [==============================] - 2s 35ms/step - loss: 0.1265 - accuracy: 0.9542\n",
      "Epoch 53/100\n",
      "71/71 [==============================] - 2s 34ms/step - loss: 0.1234 - accuracy: 0.9564\n",
      "Epoch 54/100\n",
      "71/71 [==============================] - 2s 35ms/step - loss: 0.1234 - accuracy: 0.9511\n",
      "Epoch 55/100\n",
      "71/71 [==============================] - 2s 35ms/step - loss: 0.1218 - accuracy: 0.9547\n",
      "Epoch 56/100\n",
      "71/71 [==============================] - 2s 35ms/step - loss: 0.1212 - accuracy: 0.9542\n",
      "Epoch 57/100\n",
      "71/71 [==============================] - 2s 35ms/step - loss: 0.1199 - accuracy: 0.9529\n",
      "Epoch 58/100\n",
      "71/71 [==============================] - 2s 35ms/step - loss: 0.1167 - accuracy: 0.9551\n",
      "Epoch 59/100\n",
      "71/71 [==============================] - 2s 35ms/step - loss: 0.1209 - accuracy: 0.9542\n",
      "Epoch 60/100\n",
      "71/71 [==============================] - 2s 35ms/step - loss: 0.1154 - accuracy: 0.9542\n",
      "Epoch 61/100\n",
      "71/71 [==============================] - 2s 34ms/step - loss: 0.1148 - accuracy: 0.9533\n",
      "Epoch 62/100\n",
      "71/71 [==============================] - 2s 35ms/step - loss: 0.1146 - accuracy: 0.9529\n",
      "Epoch 63/100\n",
      "71/71 [==============================] - 2s 35ms/step - loss: 0.1128 - accuracy: 0.9547\n",
      "Epoch 64/100\n",
      "71/71 [==============================] - 2s 35ms/step - loss: 0.1119 - accuracy: 0.9520\n",
      "Epoch 65/100\n",
      "71/71 [==============================] - 2s 35ms/step - loss: 0.1101 - accuracy: 0.9556\n",
      "Epoch 66/100\n",
      "71/71 [==============================] - 2s 35ms/step - loss: 0.1088 - accuracy: 0.9529\n",
      "Epoch 67/100\n",
      "71/71 [==============================] - 2s 35ms/step - loss: 0.1096 - accuracy: 0.9569\n",
      "Epoch 68/100\n",
      "71/71 [==============================] - 2s 35ms/step - loss: 0.1089 - accuracy: 0.9538\n",
      "Epoch 69/100\n",
      "71/71 [==============================] - 2s 35ms/step - loss: 0.1099 - accuracy: 0.9560\n",
      "Epoch 70/100\n",
      "71/71 [==============================] - 2s 34ms/step - loss: 0.1095 - accuracy: 0.9511\n",
      "Epoch 71/100\n",
      "71/71 [==============================] - 2s 35ms/step - loss: 0.1090 - accuracy: 0.9560\n",
      "Epoch 72/100\n",
      "71/71 [==============================] - 2s 35ms/step - loss: 0.1096 - accuracy: 0.9542\n",
      "Epoch 73/100\n",
      "71/71 [==============================] - 2s 35ms/step - loss: 0.1068 - accuracy: 0.9560\n",
      "Epoch 74/100\n",
      "71/71 [==============================] - 2s 35ms/step - loss: 0.1064 - accuracy: 0.9542\n",
      "Epoch 75/100\n",
      "71/71 [==============================] - 2s 35ms/step - loss: 0.1067 - accuracy: 0.9520\n",
      "Epoch 76/100\n",
      "71/71 [==============================] - 2s 35ms/step - loss: 0.1062 - accuracy: 0.9529\n",
      "Epoch 77/100\n",
      "71/71 [==============================] - 2s 35ms/step - loss: 0.1031 - accuracy: 0.9524\n",
      "Epoch 78/100\n",
      "71/71 [==============================] - 2s 35ms/step - loss: 0.1042 - accuracy: 0.9551\n",
      "Epoch 79/100\n",
      "71/71 [==============================] - 2s 35ms/step - loss: 0.1064 - accuracy: 0.9542\n",
      "Epoch 80/100\n",
      "71/71 [==============================] - 2s 35ms/step - loss: 0.1043 - accuracy: 0.9556\n",
      "Epoch 81/100\n",
      "71/71 [==============================] - 2s 35ms/step - loss: 0.1026 - accuracy: 0.9564\n",
      "Epoch 82/100\n",
      "71/71 [==============================] - 2s 35ms/step - loss: 0.1015 - accuracy: 0.9516\n",
      "Epoch 83/100\n",
      "71/71 [==============================] - 2s 35ms/step - loss: 0.1048 - accuracy: 0.9560\n",
      "Epoch 84/100\n",
      "71/71 [==============================] - 2s 35ms/step - loss: 0.1026 - accuracy: 0.9547\n",
      "Epoch 85/100\n",
      "71/71 [==============================] - 2s 35ms/step - loss: 0.1030 - accuracy: 0.9498\n",
      "Epoch 86/100\n",
      "71/71 [==============================] - 2s 35ms/step - loss: 0.1040 - accuracy: 0.9520\n",
      "Epoch 87/100\n",
      "71/71 [==============================] - 2s 35ms/step - loss: 0.1020 - accuracy: 0.9538\n",
      "Epoch 88/100\n",
      "71/71 [==============================] - 2s 35ms/step - loss: 0.1008 - accuracy: 0.9542\n",
      "Epoch 89/100\n",
      "71/71 [==============================] - 2s 35ms/step - loss: 0.1040 - accuracy: 0.9551\n",
      "Epoch 90/100\n",
      "71/71 [==============================] - 2s 35ms/step - loss: 0.1006 - accuracy: 0.9533\n",
      "Epoch 91/100\n",
      "71/71 [==============================] - 2s 34ms/step - loss: 0.1009 - accuracy: 0.9529\n",
      "Epoch 92/100\n",
      "71/71 [==============================] - 2s 35ms/step - loss: 0.1014 - accuracy: 0.9542\n",
      "Epoch 93/100\n",
      "71/71 [==============================] - 2s 35ms/step - loss: 0.1000 - accuracy: 0.9551\n",
      "Epoch 94/100\n",
      "71/71 [==============================] - 2s 34ms/step - loss: 0.0989 - accuracy: 0.9542\n",
      "Epoch 95/100\n",
      "71/71 [==============================] - 2s 35ms/step - loss: 0.0984 - accuracy: 0.9542\n",
      "Epoch 96/100\n",
      "71/71 [==============================] - 2s 35ms/step - loss: 0.0997 - accuracy: 0.9524\n",
      "Epoch 97/100\n",
      "71/71 [==============================] - 2s 35ms/step - loss: 0.0981 - accuracy: 0.9560\n",
      "Epoch 98/100\n",
      "71/71 [==============================] - 2s 35ms/step - loss: 0.0977 - accuracy: 0.9538\n",
      "Epoch 99/100\n",
      "71/71 [==============================] - 2s 35ms/step - loss: 0.0980 - accuracy: 0.9516\n",
      "Epoch 100/100\n",
      "71/71 [==============================] - 2s 35ms/step - loss: 0.0955 - accuracy: 0.9551\n"
     ]
    },
    {
     "data": {
      "text/plain": [
       "<keras.src.callbacks.History at 0x234c9c20190>"
      ]
     },
     "execution_count": 25,
     "metadata": {},
     "output_type": "execute_result"
    }
   ],
   "source": [
    "model.compile(loss='categorical_crossentropy', optimizer='adam', metrics=['accuracy'])\n",
    "model.fit(X, y, epochs=100, verbose=1)"
   ]
  },
  {
   "cell_type": "markdown",
   "metadata": {},
   "source": [
    "## Save Model for JS"
   ]
  },
  {
   "cell_type": "code",
   "execution_count": 26,
   "metadata": {},
   "outputs": [],
   "source": [
    "\n",
    "output_dir = \"./tfjs_models/RNN1\" \n",
    "tfjs.converters.save_keras_model(model, output_dir)"
   ]
  },
  {
   "cell_type": "markdown",
   "metadata": {},
   "source": [
    "## Save word index"
   ]
  },
  {
   "cell_type": "code",
   "execution_count": 21,
   "metadata": {},
   "outputs": [],
   "source": [
    "# wordIndex = {}\n",
    "# for word in tokenizer.word_index:\n",
    "#     wordIndex[word] = tokenizer.word_index[word]\n",
    "\n",
    "# with open('./tokenizer/wordIndex.json', 'w', encoding='utf-8') as f:\n",
    "#     f.write(json.dumps(wordIndex, ensure_ascii=False))"
   ]
  },
  {
   "cell_type": "markdown",
   "metadata": {},
   "source": [
    "## Save Max Sequence Length"
   ]
  },
  {
   "cell_type": "code",
   "execution_count": 22,
   "metadata": {},
   "outputs": [],
   "source": [
    "# with open('./tokenizer/max_sequence_len.txt', 'w') as f:\n",
    "#     f.write(str(max_sequence_len))"
   ]
  }
 ],
 "metadata": {
  "kernelspec": {
   "display_name": "Python 3",
   "language": "python",
   "name": "python3"
  },
  "language_info": {
   "codemirror_mode": {
    "name": "ipython",
    "version": 3
   },
   "file_extension": ".py",
   "mimetype": "text/x-python",
   "name": "python",
   "nbconvert_exporter": "python",
   "pygments_lexer": "ipython3",
   "version": "3.11.5"
  },
  "orig_nbformat": 4,
  "polyglot_notebook": {
   "kernelInfo": {
    "defaultKernelName": "csharp",
    "items": [
     {
      "aliases": [],
      "name": "csharp"
     }
    ]
   }
  }
 },
 "nbformat": 4,
 "nbformat_minor": 2
}
