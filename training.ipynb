{
 "cells": [
  {
   "cell_type": "code",
   "execution_count": 2,
   "metadata": {
    "dotnet_interactive": {
     "language": "csharp"
    },
    "polyglot_notebook": {
     "kernelName": "csharp"
    }
   },
   "outputs": [],
   "source": [
    "import numpy as np\n",
    "import tensorflow as tf\n",
    "from tensorflow.keras.preprocessing.text import Tokenizer\n",
    "from tensorflow.keras.preprocessing.sequence import pad_sequences\n",
    "from tensorflow.keras.models import Sequential\n",
    "from tensorflow.keras.layers import Embedding, LSTM, Dense\n",
    "\n",
    "import json\n",
    "import tensorflowjs as tfjs\n",
    "\n"
   ]
  },
  {
   "cell_type": "markdown",
   "metadata": {},
   "source": [
    "## Import Text"
   ]
  },
  {
   "cell_type": "code",
   "execution_count": 3,
   "metadata": {},
   "outputs": [],
   "source": [
    "# Reading corpus the text file\n",
    "with open(\"IndiaUS.txt\", 'r', encoding='utf-8') as myfile:\n",
    "    mytext = myfile.read()"
   ]
  },
  {
   "cell_type": "markdown",
   "metadata": {},
   "source": [
    "## Tokenize Text"
   ]
  },
  {
   "cell_type": "code",
   "execution_count": 4,
   "metadata": {},
   "outputs": [],
   "source": [
    "mytokenizer = Tokenizer()\n",
    "mytokenizer.fit_on_texts([mytext])\n",
    "total_words = len(mytokenizer.word_index) + 1"
   ]
  },
  {
   "cell_type": "code",
   "execution_count": 5,
   "metadata": {},
   "outputs": [],
   "source": [
    "my_input_sequences = []\n",
    "for line in mytext.split('\\n'):\n",
    "    token_list = mytokenizer.texts_to_sequences([line])[0]\n",
    "    for i in range(1, len(token_list)):\n",
    "        my_n_gram_sequence = token_list[:i+1]\n",
    "        my_input_sequences.append(my_n_gram_sequence)"
   ]
  },
  {
   "cell_type": "code",
   "execution_count": 6,
   "metadata": {},
   "outputs": [],
   "source": [
    "max_sequence_len = max([len(seq) for seq in my_input_sequences])\n",
    "input_sequences = np.array(pad_sequences(my_input_sequences, maxlen=max_sequence_len, padding='pre'))"
   ]
  },
  {
   "cell_type": "code",
   "execution_count": 7,
   "metadata": {},
   "outputs": [],
   "source": [
    "X = input_sequences[:, :-1]\n",
    "y = input_sequences[:, -1]"
   ]
  },
  {
   "cell_type": "code",
   "execution_count": 8,
   "metadata": {},
   "outputs": [],
   "source": [
    "y = np.array(tf.keras.utils.to_categorical(y, num_classes=total_words))"
   ]
  },
  {
   "cell_type": "markdown",
   "metadata": {},
   "source": [
    "## Create Model Architecture"
   ]
  },
  {
   "cell_type": "code",
   "execution_count": 8,
   "metadata": {},
   "outputs": [
    {
     "name": "stdout",
     "output_type": "stream",
     "text": [
      "Model: \"sequential\"\n",
      "_________________________________________________________________\n",
      " Layer (type)                Output Shape              Param #   \n",
      "=================================================================\n",
      " embedding (Embedding)       (None, 82, 100)           59900     \n",
      "                                                                 \n",
      " lstm (LSTM)                 (None, 150)               150600    \n",
      "                                                                 \n",
      " dense (Dense)               (None, 599)               90449     \n",
      "                                                                 \n",
      "=================================================================\n",
      "Total params: 300949 (1.15 MB)\n",
      "Trainable params: 300949 (1.15 MB)\n",
      "Non-trainable params: 0 (0.00 Byte)\n",
      "_________________________________________________________________\n",
      "None\n"
     ]
    }
   ],
   "source": [
    "model = Sequential()\n",
    "model.add(Embedding(total_words, 100, input_length=max_sequence_len-1))\n",
    "model.add(LSTM(150))\n",
    "model.add(Dense(total_words, activation='softmax'))\n",
    "print(model.summary())"
   ]
  },
  {
   "cell_type": "markdown",
   "metadata": {},
   "source": [
    "## Train Model"
   ]
  },
  {
   "cell_type": "code",
   "execution_count": 9,
   "metadata": {},
   "outputs": [
    {
     "name": "stdout",
     "output_type": "stream",
     "text": [
      "Epoch 1/100\n",
      "43/43 [==============================] - 5s 78ms/step - loss: 6.2069 - accuracy: 0.0496\n",
      "Epoch 2/100\n",
      "43/43 [==============================] - 3s 77ms/step - loss: 5.7969 - accuracy: 0.0576\n",
      "Epoch 3/100\n",
      "43/43 [==============================] - 3s 79ms/step - loss: 5.7256 - accuracy: 0.0576\n",
      "Epoch 4/100\n",
      "43/43 [==============================] - 3s 80ms/step - loss: 5.6724 - accuracy: 0.0576\n",
      "Epoch 5/100\n",
      "43/43 [==============================] - 4s 82ms/step - loss: 5.5903 - accuracy: 0.0576\n",
      "Epoch 6/100\n",
      "43/43 [==============================] - 3s 79ms/step - loss: 5.4901 - accuracy: 0.0576\n",
      "Epoch 7/100\n",
      "43/43 [==============================] - 3s 78ms/step - loss: 5.3722 - accuracy: 0.0656\n",
      "Epoch 8/100\n",
      "43/43 [==============================] - 3s 79ms/step - loss: 5.2231 - accuracy: 0.0832\n",
      "Epoch 9/100\n",
      "43/43 [==============================] - 3s 78ms/step - loss: 5.0458 - accuracy: 0.1072\n",
      "Epoch 10/100\n",
      "43/43 [==============================] - 3s 80ms/step - loss: 4.8481 - accuracy: 0.1109\n",
      "Epoch 11/100\n",
      "43/43 [==============================] - 3s 80ms/step - loss: 4.6502 - accuracy: 0.1379\n",
      "Epoch 12/100\n",
      "43/43 [==============================] - 3s 79ms/step - loss: 4.4388 - accuracy: 0.1554\n",
      "Epoch 13/100\n",
      "43/43 [==============================] - 3s 80ms/step - loss: 4.2418 - accuracy: 0.1721\n",
      "Epoch 14/100\n",
      "43/43 [==============================] - 3s 79ms/step - loss: 4.0458 - accuracy: 0.1977\n",
      "Epoch 15/100\n",
      "43/43 [==============================] - 3s 80ms/step - loss: 3.8520 - accuracy: 0.2195\n",
      "Epoch 16/100\n",
      "43/43 [==============================] - 3s 79ms/step - loss: 3.6646 - accuracy: 0.2458\n",
      "Epoch 17/100\n",
      "43/43 [==============================] - 3s 80ms/step - loss: 3.4768 - accuracy: 0.2728\n",
      "Epoch 18/100\n",
      "43/43 [==============================] - 3s 80ms/step - loss: 3.2917 - accuracy: 0.3166\n",
      "Epoch 19/100\n",
      "43/43 [==============================] - 3s 78ms/step - loss: 3.1082 - accuracy: 0.3501\n",
      "Epoch 20/100\n",
      "43/43 [==============================] - 4s 82ms/step - loss: 2.9269 - accuracy: 0.3982\n",
      "Epoch 21/100\n",
      "43/43 [==============================] - 3s 80ms/step - loss: 2.7398 - accuracy: 0.4530\n",
      "Epoch 22/100\n",
      "43/43 [==============================] - 3s 79ms/step - loss: 2.5687 - accuracy: 0.5040\n",
      "Epoch 23/100\n",
      "43/43 [==============================] - 3s 79ms/step - loss: 2.4027 - accuracy: 0.5383\n",
      "Epoch 24/100\n",
      "43/43 [==============================] - 3s 79ms/step - loss: 2.2360 - accuracy: 0.5908\n",
      "Epoch 25/100\n",
      "43/43 [==============================] - 3s 80ms/step - loss: 2.0803 - accuracy: 0.6433\n",
      "Epoch 26/100\n",
      "43/43 [==============================] - 3s 80ms/step - loss: 1.9278 - accuracy: 0.6798\n",
      "Epoch 27/100\n",
      "43/43 [==============================] - 3s 80ms/step - loss: 1.7852 - accuracy: 0.7221\n",
      "Epoch 28/100\n",
      "43/43 [==============================] - 3s 81ms/step - loss: 1.6539 - accuracy: 0.7666\n",
      "Epoch 29/100\n",
      "43/43 [==============================] - 4s 82ms/step - loss: 1.5271 - accuracy: 0.7987\n",
      "Epoch 30/100\n",
      "43/43 [==============================] - 4s 82ms/step - loss: 1.4053 - accuracy: 0.8293\n",
      "Epoch 31/100\n",
      "43/43 [==============================] - 3s 81ms/step - loss: 1.2889 - accuracy: 0.8519\n",
      "Epoch 32/100\n",
      "43/43 [==============================] - 4s 81ms/step - loss: 1.1893 - accuracy: 0.8694\n",
      "Epoch 33/100\n",
      "43/43 [==============================] - 3s 81ms/step - loss: 1.0964 - accuracy: 0.8848\n",
      "Epoch 34/100\n",
      "43/43 [==============================] - 3s 80ms/step - loss: 1.0073 - accuracy: 0.8964\n",
      "Epoch 35/100\n",
      "43/43 [==============================] - 3s 80ms/step - loss: 0.9204 - accuracy: 0.9074\n",
      "Epoch 36/100\n",
      "43/43 [==============================] - 3s 81ms/step - loss: 0.8510 - accuracy: 0.9227\n",
      "Epoch 37/100\n",
      "43/43 [==============================] - 3s 79ms/step - loss: 0.7800 - accuracy: 0.9292\n",
      "Epoch 38/100\n",
      "43/43 [==============================] - 3s 81ms/step - loss: 0.7187 - accuracy: 0.9416\n",
      "Epoch 39/100\n",
      "43/43 [==============================] - 3s 81ms/step - loss: 0.6651 - accuracy: 0.9460\n",
      "Epoch 40/100\n",
      "43/43 [==============================] - 3s 80ms/step - loss: 0.6126 - accuracy: 0.9526\n",
      "Epoch 41/100\n",
      "43/43 [==============================] - 3s 81ms/step - loss: 0.5660 - accuracy: 0.9584\n",
      "Epoch 42/100\n",
      "43/43 [==============================] - 3s 80ms/step - loss: 0.5235 - accuracy: 0.9599\n",
      "Epoch 43/100\n",
      "43/43 [==============================] - 4s 82ms/step - loss: 0.4858 - accuracy: 0.9664\n",
      "Epoch 44/100\n",
      "43/43 [==============================] - 4s 82ms/step - loss: 0.4508 - accuracy: 0.9672\n",
      "Epoch 45/100\n",
      "43/43 [==============================] - 3s 80ms/step - loss: 0.4191 - accuracy: 0.9716\n",
      "Epoch 46/100\n",
      "43/43 [==============================] - 3s 79ms/step - loss: 0.3918 - accuracy: 0.9730\n",
      "Epoch 47/100\n",
      "43/43 [==============================] - 3s 79ms/step - loss: 0.3639 - accuracy: 0.9767\n",
      "Epoch 48/100\n",
      "43/43 [==============================] - 3s 80ms/step - loss: 0.3413 - accuracy: 0.9745\n",
      "Epoch 49/100\n",
      "43/43 [==============================] - 3s 80ms/step - loss: 0.3196 - accuracy: 0.9774\n",
      "Epoch 50/100\n",
      "43/43 [==============================] - 3s 80ms/step - loss: 0.3006 - accuracy: 0.9803\n",
      "Epoch 51/100\n",
      "43/43 [==============================] - 3s 79ms/step - loss: 0.2819 - accuracy: 0.9818\n",
      "Epoch 52/100\n",
      "43/43 [==============================] - 3s 80ms/step - loss: 0.2662 - accuracy: 0.9810\n",
      "Epoch 53/100\n",
      "43/43 [==============================] - 3s 79ms/step - loss: 0.2489 - accuracy: 0.9840\n",
      "Epoch 54/100\n",
      "43/43 [==============================] - 3s 78ms/step - loss: 0.2357 - accuracy: 0.9818\n",
      "Epoch 55/100\n",
      "43/43 [==============================] - 3s 79ms/step - loss: 0.2233 - accuracy: 0.9832\n",
      "Epoch 56/100\n",
      "43/43 [==============================] - 3s 78ms/step - loss: 0.2109 - accuracy: 0.9825\n",
      "Epoch 57/100\n",
      "43/43 [==============================] - 3s 79ms/step - loss: 0.1994 - accuracy: 0.9847\n",
      "Epoch 58/100\n",
      "43/43 [==============================] - 3s 79ms/step - loss: 0.1887 - accuracy: 0.9854\n",
      "Epoch 59/100\n",
      "43/43 [==============================] - 3s 78ms/step - loss: 0.1858 - accuracy: 0.9832\n",
      "Epoch 60/100\n",
      "43/43 [==============================] - 3s 79ms/step - loss: 0.1714 - accuracy: 0.9869\n",
      "Epoch 61/100\n",
      "43/43 [==============================] - 3s 79ms/step - loss: 0.1631 - accuracy: 0.9847\n",
      "Epoch 62/100\n",
      "43/43 [==============================] - 3s 80ms/step - loss: 0.1556 - accuracy: 0.9861\n",
      "Epoch 63/100\n",
      "43/43 [==============================] - 3s 79ms/step - loss: 0.1484 - accuracy: 0.9854\n",
      "Epoch 64/100\n",
      "43/43 [==============================] - 3s 79ms/step - loss: 0.1432 - accuracy: 0.9840\n",
      "Epoch 65/100\n",
      "43/43 [==============================] - 3s 80ms/step - loss: 0.1366 - accuracy: 0.9847\n",
      "Epoch 66/100\n",
      "43/43 [==============================] - 3s 80ms/step - loss: 0.1315 - accuracy: 0.9840\n",
      "Epoch 67/100\n",
      "43/43 [==============================] - 3s 79ms/step - loss: 0.1259 - accuracy: 0.9869\n",
      "Epoch 68/100\n",
      "43/43 [==============================] - 3s 78ms/step - loss: 0.1205 - accuracy: 0.9876\n",
      "Epoch 69/100\n",
      "43/43 [==============================] - 3s 78ms/step - loss: 0.1171 - accuracy: 0.9832\n",
      "Epoch 70/100\n",
      "43/43 [==============================] - 3s 78ms/step - loss: 0.1123 - accuracy: 0.9861\n",
      "Epoch 71/100\n",
      "43/43 [==============================] - 3s 78ms/step - loss: 0.1073 - accuracy: 0.9869\n",
      "Epoch 72/100\n",
      "43/43 [==============================] - 3s 78ms/step - loss: 0.1048 - accuracy: 0.9854\n",
      "Epoch 73/100\n",
      "43/43 [==============================] - 3s 78ms/step - loss: 0.1010 - accuracy: 0.9861\n",
      "Epoch 74/100\n",
      "43/43 [==============================] - 3s 78ms/step - loss: 0.0981 - accuracy: 0.9854\n",
      "Epoch 75/100\n",
      "43/43 [==============================] - 3s 78ms/step - loss: 0.0945 - accuracy: 0.9861\n",
      "Epoch 76/100\n",
      "43/43 [==============================] - 3s 78ms/step - loss: 0.0922 - accuracy: 0.9861\n",
      "Epoch 77/100\n",
      "43/43 [==============================] - 3s 78ms/step - loss: 0.0887 - accuracy: 0.9876\n",
      "Epoch 78/100\n",
      "43/43 [==============================] - 3s 78ms/step - loss: 0.0865 - accuracy: 0.9847\n",
      "Epoch 79/100\n",
      "43/43 [==============================] - 3s 78ms/step - loss: 0.0852 - accuracy: 0.9869\n",
      "Epoch 80/100\n",
      "43/43 [==============================] - 3s 78ms/step - loss: 0.0820 - accuracy: 0.9861\n",
      "Epoch 81/100\n",
      "43/43 [==============================] - 3s 78ms/step - loss: 0.0794 - accuracy: 0.9854\n",
      "Epoch 82/100\n",
      "43/43 [==============================] - 3s 78ms/step - loss: 0.0768 - accuracy: 0.9869\n",
      "Epoch 83/100\n",
      "43/43 [==============================] - 3s 78ms/step - loss: 0.0757 - accuracy: 0.9854\n",
      "Epoch 84/100\n",
      "43/43 [==============================] - 3s 78ms/step - loss: 0.0739 - accuracy: 0.9876\n",
      "Epoch 85/100\n",
      "43/43 [==============================] - 3s 78ms/step - loss: 0.0719 - accuracy: 0.9869\n",
      "Epoch 86/100\n",
      "43/43 [==============================] - 3s 78ms/step - loss: 0.0696 - accuracy: 0.9869\n",
      "Epoch 87/100\n",
      "43/43 [==============================] - 3s 78ms/step - loss: 0.0693 - accuracy: 0.9854\n",
      "Epoch 88/100\n",
      "43/43 [==============================] - 3s 78ms/step - loss: 0.0671 - accuracy: 0.9854\n",
      "Epoch 89/100\n",
      "43/43 [==============================] - 3s 78ms/step - loss: 0.0658 - accuracy: 0.9869\n",
      "Epoch 90/100\n",
      "43/43 [==============================] - 3s 78ms/step - loss: 0.0642 - accuracy: 0.9847\n",
      "Epoch 91/100\n",
      "43/43 [==============================] - 3s 78ms/step - loss: 0.0634 - accuracy: 0.9861\n",
      "Epoch 92/100\n",
      "43/43 [==============================] - 3s 79ms/step - loss: 0.0618 - accuracy: 0.9861\n",
      "Epoch 93/100\n",
      "43/43 [==============================] - 3s 80ms/step - loss: 0.0602 - accuracy: 0.9869\n",
      "Epoch 94/100\n",
      "43/43 [==============================] - 3s 81ms/step - loss: 0.0591 - accuracy: 0.9861\n",
      "Epoch 95/100\n",
      "43/43 [==============================] - 3s 79ms/step - loss: 0.0578 - accuracy: 0.9854\n",
      "Epoch 96/100\n",
      "43/43 [==============================] - 3s 81ms/step - loss: 0.0572 - accuracy: 0.9861\n",
      "Epoch 97/100\n",
      "43/43 [==============================] - 3s 78ms/step - loss: 0.0564 - accuracy: 0.9847\n",
      "Epoch 98/100\n",
      "43/43 [==============================] - 3s 78ms/step - loss: 0.0555 - accuracy: 0.9869\n",
      "Epoch 99/100\n",
      "43/43 [==============================] - 3s 77ms/step - loss: 0.0544 - accuracy: 0.9861\n",
      "Epoch 100/100\n",
      "43/43 [==============================] - 3s 79ms/step - loss: 0.0537 - accuracy: 0.9847\n"
     ]
    },
    {
     "data": {
      "text/plain": [
       "<keras.src.callbacks.History at 0x24eccef2190>"
      ]
     },
     "execution_count": 9,
     "metadata": {},
     "output_type": "execute_result"
    }
   ],
   "source": [
    "model.compile(loss='categorical_crossentropy', optimizer='adam', metrics=['accuracy'])\n",
    "model.fit(X, y, epochs=100, verbose=1)"
   ]
  },
  {
   "cell_type": "markdown",
   "metadata": {},
   "source": [
    "## Save Model"
   ]
  },
  {
   "cell_type": "code",
   "execution_count": 10,
   "metadata": {},
   "outputs": [
    {
     "name": "stderr",
     "output_type": "stream",
     "text": [
      "C:\\Users\\lusti\\AppData\\Local\\Temp\\ipykernel_17924\\676220079.py:1: UserWarning: You are saving your model as an HDF5 file via `model.save()`. This file format is considered legacy. We recommend using instead the native Keras format, e.g. `model.save('my_model.keras')`.\n",
      "  tf.keras.models.save_model(model, 'my_model.h5')\n"
     ]
    }
   ],
   "source": [
    "tf.keras.models.save_model(model, 'my_model.h5')"
   ]
  },
  {
   "cell_type": "code",
   "execution_count": 20,
   "metadata": {},
   "outputs": [
    {
     "name": "stderr",
     "output_type": "stream",
     "text": [
      "C:\\Users\\lusti\\AppData\\Local\\Packages\\PythonSoftwareFoundation.Python.3.11_qbz5n2kfra8p0\\LocalCache\\local-packages\\Python311\\site-packages\\keras\\src\\engine\\training.py:3000: UserWarning: You are saving your model as an HDF5 file via `model.save()`. This file format is considered legacy. We recommend using instead the native Keras format, e.g. `model.save('my_model.keras')`.\n",
      "  saving_api.save_model(\n"
     ]
    }
   ],
   "source": [
    "\n",
    "# Zielverzeichnis für das TensorFlow.js-Modell\n",
    "output_dir = \"./tfjs_models/model\" \n",
    "\n",
    "# Konvertierung des Modells\n",
    "tfjs.converters.save_keras_model(model, output_dir)\n"
   ]
  },
  {
   "cell_type": "markdown",
   "metadata": {},
   "source": [
    "## Save Tokenizer"
   ]
  },
  {
   "cell_type": "code",
   "execution_count": 12,
   "metadata": {},
   "outputs": [],
   "source": [
    "vocab = {}\n",
    "for word in mytokenizer.word_index:\n",
    "    vocab[word] = mytokenizer.word_index[word]\n",
    "\n",
    "with open('vocab.json', 'w', encoding='utf-8') as f:\n",
    "    f.write(json.dumps(vocab, ensure_ascii=False))"
   ]
  },
  {
   "cell_type": "code",
   "execution_count": 13,
   "metadata": {},
   "outputs": [],
   "source": [
    "# save max_sequence_len to file\n",
    "with open('max_sequence_len.txt', 'w') as f:\n",
    "    f.write(str(max_sequence_len))\n"
   ]
  },
  {
   "cell_type": "code",
   "execution_count": 19,
   "metadata": {},
   "outputs": [
    {
     "name": "stdout",
     "output_type": "stream",
     "text": [
      "[72, 14]\n",
      "82\n"
     ]
    }
   ],
   "source": [
    "input_text = \"Joe biden\"\n",
    "predict_next_words= 6\n",
    "token_list = mytokenizer.texts_to_sequences([input_text])[0]\n",
    "print(token_list)\n",
    "token_list = pad_sequences([token_list], maxlen=max_sequence_len-1, padding='pre')\n",
    "print(token_list)"
   ]
  }
 ],
 "metadata": {
  "kernelspec": {
   "display_name": "Python 3",
   "language": "python",
   "name": "python3"
  },
  "language_info": {
   "codemirror_mode": {
    "name": "ipython",
    "version": 3
   },
   "file_extension": ".py",
   "mimetype": "text/x-python",
   "name": "python",
   "nbconvert_exporter": "python",
   "pygments_lexer": "ipython3",
   "version": "3.11.5"
  },
  "orig_nbformat": 4,
  "polyglot_notebook": {
   "kernelInfo": {
    "defaultKernelName": "csharp",
    "items": [
     {
      "aliases": [],
      "name": "csharp"
     }
    ]
   }
  }
 },
 "nbformat": 4,
 "nbformat_minor": 2
}
