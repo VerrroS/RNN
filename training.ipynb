{
 "cells": [
  {
   "cell_type": "code",
   "execution_count": 21,
   "metadata": {
    "dotnet_interactive": {
     "language": "csharp"
    },
    "polyglot_notebook": {
     "kernelName": "csharp"
    }
   },
   "outputs": [],
   "source": [
    "import numpy as np\n",
    "import tensorflow as tf\n",
    "from tensorflow.keras.preprocessing.text import Tokenizer\n",
    "from tensorflow.keras.preprocessing.sequence import pad_sequences\n",
    "from tensorflow.keras.models import Sequential\n",
    "from tensorflow.keras.layers import Embedding, LSTM, Dense\n",
    "import json\n",
    "import tensorflowjs as tfjs"
   ]
  },
  {
   "cell_type": "markdown",
   "metadata": {},
   "source": [
    "## Import Text"
   ]
  },
  {
   "cell_type": "code",
   "execution_count": 22,
   "metadata": {},
   "outputs": [],
   "source": [
    "with open(\"IndiaUS.txt\", 'r', encoding='utf-8') as myfile:\n",
    "    mytext = myfile.read()"
   ]
  },
  {
   "cell_type": "markdown",
   "metadata": {},
   "source": [
    "## Tokenize Text"
   ]
  },
  {
   "cell_type": "code",
   "execution_count": 23,
   "metadata": {},
   "outputs": [],
   "source": [
    "mytokenizer = Tokenizer()\n",
    "mytokenizer.fit_on_texts([mytext])\n",
    "total_words = len(mytokenizer.word_index) + 1"
   ]
  },
  {
   "cell_type": "code",
   "execution_count": 24,
   "metadata": {},
   "outputs": [],
   "source": [
    "my_input_sequences = []\n",
    "for line in mytext.split('\\n'):\n",
    "    token_list = mytokenizer.texts_to_sequences([line])[0]\n",
    "    for i in range(1, len(token_list)):\n",
    "        my_n_gram_sequence = token_list[:i+1]\n",
    "        my_input_sequences.append(my_n_gram_sequence)"
   ]
  },
  {
   "cell_type": "code",
   "execution_count": 25,
   "metadata": {},
   "outputs": [],
   "source": [
    "max_sequence_len = max([len(seq) for seq in my_input_sequences])\n",
    "input_sequences = np.array(pad_sequences(my_input_sequences, maxlen=max_sequence_len, padding='pre'))"
   ]
  },
  {
   "cell_type": "code",
   "execution_count": 26,
   "metadata": {},
   "outputs": [],
   "source": [
    "X = input_sequences[:, :-1]\n",
    "y = input_sequences[:, -1]"
   ]
  },
  {
   "cell_type": "code",
   "execution_count": 27,
   "metadata": {},
   "outputs": [],
   "source": [
    "y = np.array(tf.keras.utils.to_categorical(y, num_classes=total_words))"
   ]
  },
  {
   "cell_type": "markdown",
   "metadata": {},
   "source": [
    "## Create Model Architecture"
   ]
  },
  {
   "cell_type": "code",
   "execution_count": 28,
   "metadata": {},
   "outputs": [
    {
     "name": "stdout",
     "output_type": "stream",
     "text": [
      "Model: \"sequential\"\n",
      "_________________________________________________________________\n",
      " Layer (type)                Output Shape              Param #   \n",
      "=================================================================\n",
      " embedding (Embedding)       (None, 82, 100)           59900     \n",
      "                                                                 \n",
      " lstm (LSTM)                 (None, 150)               150600    \n",
      "                                                                 \n",
      " dense (Dense)               (None, 599)               90449     \n",
      "                                                                 \n",
      "=================================================================\n",
      "Total params: 300949 (1.15 MB)\n",
      "Trainable params: 300949 (1.15 MB)\n",
      "Non-trainable params: 0 (0.00 Byte)\n",
      "_________________________________________________________________\n",
      "None\n"
     ]
    }
   ],
   "source": [
    "model = Sequential()\n",
    "model.add(Embedding(total_words, 100, input_length=max_sequence_len-1))\n",
    "model.add(LSTM(150))\n",
    "model.add(Dense(total_words, activation='softmax'))\n",
    "print(model.summary())"
   ]
  },
  {
   "cell_type": "markdown",
   "metadata": {},
   "source": [
    "## Train Model"
   ]
  },
  {
   "cell_type": "code",
   "execution_count": 29,
   "metadata": {},
   "outputs": [
    {
     "name": "stdout",
     "output_type": "stream",
     "text": [
      "Epoch 1/100\n",
      "43/43 [==============================] - 5s 77ms/step - loss: 6.1516 - accuracy: 0.0496\n",
      "Epoch 2/100\n",
      "43/43 [==============================] - 3s 77ms/step - loss: 5.8033 - accuracy: 0.0474\n",
      "Epoch 3/100\n",
      "43/43 [==============================] - 3s 77ms/step - loss: 5.7245 - accuracy: 0.0576\n",
      "Epoch 4/100\n",
      "43/43 [==============================] - 3s 77ms/step - loss: 5.6635 - accuracy: 0.0576\n",
      "Epoch 5/100\n",
      "43/43 [==============================] - 3s 78ms/step - loss: 5.5857 - accuracy: 0.0576\n",
      "Epoch 6/100\n",
      "43/43 [==============================] - 3s 80ms/step - loss: 5.4919 - accuracy: 0.0591\n",
      "Epoch 7/100\n",
      "43/43 [==============================] - 3s 78ms/step - loss: 5.3695 - accuracy: 0.0656\n",
      "Epoch 8/100\n",
      "43/43 [==============================] - 3s 77ms/step - loss: 5.2179 - accuracy: 0.0759\n",
      "Epoch 9/100\n",
      "43/43 [==============================] - 3s 77ms/step - loss: 5.0487 - accuracy: 0.0963\n",
      "Epoch 10/100\n",
      "43/43 [==============================] - 3s 77ms/step - loss: 4.8527 - accuracy: 0.1123\n",
      "Epoch 11/100\n",
      "43/43 [==============================] - 3s 77ms/step - loss: 4.6405 - accuracy: 0.1313\n",
      "Epoch 12/100\n",
      "43/43 [==============================] - 3s 78ms/step - loss: 4.4153 - accuracy: 0.1510\n",
      "Epoch 13/100\n",
      "43/43 [==============================] - 3s 77ms/step - loss: 4.1926 - accuracy: 0.1743\n",
      "Epoch 14/100\n",
      "43/43 [==============================] - 3s 77ms/step - loss: 3.9613 - accuracy: 0.1984\n",
      "Epoch 15/100\n",
      "43/43 [==============================] - 3s 78ms/step - loss: 3.7428 - accuracy: 0.2188\n",
      "Epoch 16/100\n",
      "43/43 [==============================] - 3s 78ms/step - loss: 3.5301 - accuracy: 0.2611\n",
      "Epoch 17/100\n",
      "43/43 [==============================] - 3s 78ms/step - loss: 3.3239 - accuracy: 0.2910\n",
      "Epoch 18/100\n",
      "43/43 [==============================] - 3s 78ms/step - loss: 3.1252 - accuracy: 0.3370\n",
      "Epoch 19/100\n",
      "43/43 [==============================] - 3s 78ms/step - loss: 2.9248 - accuracy: 0.3793\n",
      "Epoch 20/100\n",
      "43/43 [==============================] - 3s 77ms/step - loss: 2.7356 - accuracy: 0.4347\n",
      "Epoch 21/100\n",
      "43/43 [==============================] - 3s 79ms/step - loss: 2.5435 - accuracy: 0.4996\n",
      "Epoch 22/100\n",
      "43/43 [==============================] - 3s 78ms/step - loss: 2.3624 - accuracy: 0.5580\n",
      "Epoch 23/100\n",
      "43/43 [==============================] - 3s 79ms/step - loss: 2.1835 - accuracy: 0.6193\n",
      "Epoch 24/100\n",
      "43/43 [==============================] - 3s 80ms/step - loss: 2.0232 - accuracy: 0.6557\n",
      "Epoch 25/100\n",
      "43/43 [==============================] - 3s 78ms/step - loss: 1.8583 - accuracy: 0.7214\n",
      "Epoch 26/100\n",
      "43/43 [==============================] - 3s 78ms/step - loss: 1.7042 - accuracy: 0.7462\n",
      "Epoch 27/100\n",
      "43/43 [==============================] - 3s 78ms/step - loss: 1.5664 - accuracy: 0.7812\n",
      "Epoch 28/100\n",
      "43/43 [==============================] - 3s 78ms/step - loss: 1.4313 - accuracy: 0.8301\n",
      "Epoch 29/100\n",
      "43/43 [==============================] - 3s 79ms/step - loss: 1.3101 - accuracy: 0.8410\n",
      "Epoch 30/100\n",
      "43/43 [==============================] - 3s 79ms/step - loss: 1.1972 - accuracy: 0.8592\n",
      "Epoch 31/100\n",
      "43/43 [==============================] - 3s 78ms/step - loss: 1.0903 - accuracy: 0.8804\n",
      "Epoch 32/100\n",
      "43/43 [==============================] - 3s 78ms/step - loss: 0.9943 - accuracy: 0.8935\n",
      "Epoch 33/100\n",
      "43/43 [==============================] - 3s 79ms/step - loss: 0.9097 - accuracy: 0.9074\n",
      "Epoch 34/100\n",
      "43/43 [==============================] - 3s 81ms/step - loss: 0.8328 - accuracy: 0.9271\n",
      "Epoch 35/100\n",
      "43/43 [==============================] - 3s 79ms/step - loss: 0.7598 - accuracy: 0.9365\n",
      "Epoch 36/100\n",
      "43/43 [==============================] - 3s 78ms/step - loss: 0.6943 - accuracy: 0.9453\n",
      "Epoch 37/100\n",
      "43/43 [==============================] - 3s 78ms/step - loss: 0.6367 - accuracy: 0.9489\n",
      "Epoch 38/100\n",
      "43/43 [==============================] - 3s 79ms/step - loss: 0.5860 - accuracy: 0.9592\n",
      "Epoch 39/100\n",
      "43/43 [==============================] - 3s 78ms/step - loss: 0.5395 - accuracy: 0.9657\n",
      "Epoch 40/100\n",
      "43/43 [==============================] - 3s 79ms/step - loss: 0.4975 - accuracy: 0.9686\n",
      "Epoch 41/100\n",
      "43/43 [==============================] - 3s 79ms/step - loss: 0.4579 - accuracy: 0.9745\n",
      "Epoch 42/100\n",
      "43/43 [==============================] - 3s 80ms/step - loss: 0.4245 - accuracy: 0.9716\n",
      "Epoch 43/100\n",
      "43/43 [==============================] - 3s 80ms/step - loss: 0.3935 - accuracy: 0.9752\n",
      "Epoch 44/100\n",
      "43/43 [==============================] - 4s 82ms/step - loss: 0.3663 - accuracy: 0.9767\n",
      "Epoch 45/100\n",
      "43/43 [==============================] - 3s 78ms/step - loss: 0.3396 - accuracy: 0.9781\n",
      "Epoch 46/100\n",
      "43/43 [==============================] - 3s 78ms/step - loss: 0.3154 - accuracy: 0.9796\n",
      "Epoch 47/100\n",
      "43/43 [==============================] - 3s 78ms/step - loss: 0.2955 - accuracy: 0.9818\n",
      "Epoch 48/100\n",
      "43/43 [==============================] - 3s 79ms/step - loss: 0.2778 - accuracy: 0.9810\n",
      "Epoch 49/100\n",
      "43/43 [==============================] - 3s 78ms/step - loss: 0.2603 - accuracy: 0.9832\n",
      "Epoch 50/100\n",
      "43/43 [==============================] - 3s 78ms/step - loss: 0.2451 - accuracy: 0.9818\n",
      "Epoch 51/100\n",
      "43/43 [==============================] - 3s 78ms/step - loss: 0.2306 - accuracy: 0.9825\n",
      "Epoch 52/100\n",
      "43/43 [==============================] - 3s 79ms/step - loss: 0.2173 - accuracy: 0.9825\n",
      "Epoch 53/100\n",
      "43/43 [==============================] - 3s 79ms/step - loss: 0.2057 - accuracy: 0.9861\n",
      "Epoch 54/100\n",
      "43/43 [==============================] - 3s 78ms/step - loss: 0.1950 - accuracy: 0.9840\n",
      "Epoch 55/100\n",
      "43/43 [==============================] - 3s 78ms/step - loss: 0.1857 - accuracy: 0.9840\n",
      "Epoch 56/100\n",
      "43/43 [==============================] - 3s 81ms/step - loss: 0.1751 - accuracy: 0.9840\n",
      "Epoch 57/100\n",
      "43/43 [==============================] - 3s 79ms/step - loss: 0.1677 - accuracy: 0.9854\n",
      "Epoch 58/100\n",
      "43/43 [==============================] - 3s 78ms/step - loss: 0.1596 - accuracy: 0.9861\n",
      "Epoch 59/100\n",
      "43/43 [==============================] - 3s 79ms/step - loss: 0.1518 - accuracy: 0.9854\n",
      "Epoch 60/100\n",
      "43/43 [==============================] - 3s 78ms/step - loss: 0.1446 - accuracy: 0.9854\n",
      "Epoch 61/100\n",
      "43/43 [==============================] - 3s 78ms/step - loss: 0.1387 - accuracy: 0.9854\n",
      "Epoch 62/100\n",
      "43/43 [==============================] - 3s 79ms/step - loss: 0.1332 - accuracy: 0.9847\n",
      "Epoch 63/100\n",
      "43/43 [==============================] - 3s 78ms/step - loss: 0.1278 - accuracy: 0.9861\n",
      "Epoch 64/100\n",
      "43/43 [==============================] - 3s 79ms/step - loss: 0.1223 - accuracy: 0.9861\n",
      "Epoch 65/100\n",
      "43/43 [==============================] - 3s 79ms/step - loss: 0.1179 - accuracy: 0.9854\n",
      "Epoch 66/100\n",
      "43/43 [==============================] - 3s 78ms/step - loss: 0.1144 - accuracy: 0.9840\n",
      "Epoch 67/100\n",
      "43/43 [==============================] - 3s 78ms/step - loss: 0.1101 - accuracy: 0.9854\n",
      "Epoch 68/100\n",
      "43/43 [==============================] - 3s 78ms/step - loss: 0.1064 - accuracy: 0.9847\n",
      "Epoch 69/100\n",
      "43/43 [==============================] - 3s 78ms/step - loss: 0.1030 - accuracy: 0.9861\n",
      "Epoch 70/100\n",
      "43/43 [==============================] - 3s 79ms/step - loss: 0.0998 - accuracy: 0.9861\n",
      "Epoch 71/100\n",
      "43/43 [==============================] - 3s 79ms/step - loss: 0.0958 - accuracy: 0.9854\n",
      "Epoch 72/100\n",
      "43/43 [==============================] - 3s 78ms/step - loss: 0.0932 - accuracy: 0.9861\n",
      "Epoch 73/100\n",
      "43/43 [==============================] - 3s 78ms/step - loss: 0.0903 - accuracy: 0.9854\n",
      "Epoch 74/100\n",
      "43/43 [==============================] - 3s 78ms/step - loss: 0.0871 - accuracy: 0.9869\n",
      "Epoch 75/100\n",
      "43/43 [==============================] - 3s 79ms/step - loss: 0.0843 - accuracy: 0.9861\n",
      "Epoch 76/100\n",
      "43/43 [==============================] - 3s 78ms/step - loss: 0.0829 - accuracy: 0.9861\n",
      "Epoch 77/100\n",
      "43/43 [==============================] - 3s 79ms/step - loss: 0.0809 - accuracy: 0.9854\n",
      "Epoch 78/100\n",
      "43/43 [==============================] - 3s 79ms/step - loss: 0.0788 - accuracy: 0.9876\n",
      "Epoch 79/100\n",
      "43/43 [==============================] - 3s 78ms/step - loss: 0.0764 - accuracy: 0.9861\n",
      "Epoch 80/100\n",
      "43/43 [==============================] - 3s 78ms/step - loss: 0.0744 - accuracy: 0.9861\n",
      "Epoch 81/100\n",
      "43/43 [==============================] - 3s 78ms/step - loss: 0.0731 - accuracy: 0.9869\n",
      "Epoch 82/100\n",
      "43/43 [==============================] - 3s 79ms/step - loss: 0.0709 - accuracy: 0.9876\n",
      "Epoch 83/100\n",
      "43/43 [==============================] - 3s 79ms/step - loss: 0.0691 - accuracy: 0.9840\n",
      "Epoch 84/100\n",
      "43/43 [==============================] - 3s 78ms/step - loss: 0.0679 - accuracy: 0.9854\n",
      "Epoch 85/100\n",
      "43/43 [==============================] - 3s 78ms/step - loss: 0.0667 - accuracy: 0.9861\n",
      "Epoch 86/100\n",
      "43/43 [==============================] - 3s 78ms/step - loss: 0.0651 - accuracy: 0.9869\n",
      "Epoch 87/100\n",
      "43/43 [==============================] - 3s 78ms/step - loss: 0.0638 - accuracy: 0.9869\n",
      "Epoch 88/100\n",
      "43/43 [==============================] - 3s 78ms/step - loss: 0.0623 - accuracy: 0.9861\n",
      "Epoch 89/100\n",
      "43/43 [==============================] - 3s 78ms/step - loss: 0.0613 - accuracy: 0.9869\n",
      "Epoch 90/100\n",
      "43/43 [==============================] - 3s 79ms/step - loss: 0.0598 - accuracy: 0.9883\n",
      "Epoch 91/100\n",
      "43/43 [==============================] - 3s 78ms/step - loss: 0.0592 - accuracy: 0.9869\n",
      "Epoch 92/100\n",
      "43/43 [==============================] - 3s 79ms/step - loss: 0.0576 - accuracy: 0.9847\n",
      "Epoch 93/100\n",
      "43/43 [==============================] - 3s 78ms/step - loss: 0.0567 - accuracy: 0.9861\n",
      "Epoch 94/100\n",
      "43/43 [==============================] - 3s 78ms/step - loss: 0.0556 - accuracy: 0.9869\n",
      "Epoch 95/100\n",
      "43/43 [==============================] - 3s 78ms/step - loss: 0.0550 - accuracy: 0.9861\n",
      "Epoch 96/100\n",
      "43/43 [==============================] - 3s 78ms/step - loss: 0.0545 - accuracy: 0.9876\n",
      "Epoch 97/100\n",
      "43/43 [==============================] - 3s 78ms/step - loss: 0.0533 - accuracy: 0.9854\n",
      "Epoch 98/100\n",
      "43/43 [==============================] - 3s 77ms/step - loss: 0.0518 - accuracy: 0.9854\n",
      "Epoch 99/100\n",
      "43/43 [==============================] - 3s 78ms/step - loss: 0.0516 - accuracy: 0.9861\n",
      "Epoch 100/100\n",
      "43/43 [==============================] - 3s 78ms/step - loss: 0.0509 - accuracy: 0.9854\n"
     ]
    },
    {
     "data": {
      "text/plain": [
       "<keras.src.callbacks.History at 0x26273cfbe50>"
      ]
     },
     "execution_count": 29,
     "metadata": {},
     "output_type": "execute_result"
    }
   ],
   "source": [
    "model.compile(loss='categorical_crossentropy', optimizer='adam', metrics=['accuracy'])\n",
    "model.fit(X, y, epochs=100, verbose=1)"
   ]
  },
  {
   "cell_type": "markdown",
   "metadata": {},
   "source": [
    "## Save Model for JS"
   ]
  },
  {
   "cell_type": "code",
   "execution_count": 31,
   "metadata": {},
   "outputs": [
    {
     "name": "stderr",
     "output_type": "stream",
     "text": [
      "C:\\Users\\lusti\\AppData\\Local\\Packages\\PythonSoftwareFoundation.Python.3.11_qbz5n2kfra8p0\\LocalCache\\local-packages\\Python311\\site-packages\\keras\\src\\engine\\training.py:3000: UserWarning: You are saving your model as an HDF5 file via `model.save()`. This file format is considered legacy. We recommend using instead the native Keras format, e.g. `model.save('my_model.keras')`.\n",
      "  saving_api.save_model(\n"
     ]
    }
   ],
   "source": [
    "\n",
    "output_dir = \"./tfjs_models/model\" \n",
    "tfjs.converters.save_keras_model(model, output_dir)"
   ]
  },
  {
   "cell_type": "markdown",
   "metadata": {},
   "source": [
    "## Save word index"
   ]
  },
  {
   "cell_type": "code",
   "execution_count": 32,
   "metadata": {},
   "outputs": [],
   "source": [
    "wordIndex = {}\n",
    "for word in mytokenizer.word_index:\n",
    "    wordIndex[word] = mytokenizer.word_index[word]\n",
    "\n",
    "with open('wordIndex.json', 'w', encoding='utf-8') as f:\n",
    "    f.write(json.dumps(wordIndex, ensure_ascii=False))"
   ]
  },
  {
   "cell_type": "markdown",
   "metadata": {},
   "source": [
    "## Save Max Sequence Length"
   ]
  },
  {
   "cell_type": "code",
   "execution_count": 33,
   "metadata": {},
   "outputs": [],
   "source": [
    "with open('max_sequence_len.txt', 'w') as f:\n",
    "    f.write(str(max_sequence_len))"
   ]
  }
 ],
 "metadata": {
  "kernelspec": {
   "display_name": "Python 3",
   "language": "python",
   "name": "python3"
  },
  "language_info": {
   "codemirror_mode": {
    "name": "ipython",
    "version": 3
   },
   "file_extension": ".py",
   "mimetype": "text/x-python",
   "name": "python",
   "nbconvert_exporter": "python",
   "pygments_lexer": "ipython3",
   "version": "3.11.5"
  },
  "orig_nbformat": 4,
  "polyglot_notebook": {
   "kernelInfo": {
    "defaultKernelName": "csharp",
    "items": [
     {
      "aliases": [],
      "name": "csharp"
     }
    ]
   }
  }
 },
 "nbformat": 4,
 "nbformat_minor": 2
}
