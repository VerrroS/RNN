{
 "cells": [
  {
   "cell_type": "code",
   "execution_count": 1,
   "metadata": {
    "dotnet_interactive": {
     "language": "csharp"
    },
    "polyglot_notebook": {
     "kernelName": "csharp"
    }
   },
   "outputs": [],
   "source": [
    "import numpy as np\n",
    "import tensorflow as tf\n",
    "from tensorflow.keras.preprocessing.text import Tokenizer\n",
    "from tensorflow.keras.preprocessing.sequence import pad_sequences\n",
    "from tensorflow.keras.models import Sequential\n",
    "from tensorflow.keras.layers import Embedding, LSTM, Dense\n",
    "import json\n",
    "import tensorflowjs as tfjs"
   ]
  },
  {
   "cell_type": "markdown",
   "metadata": {},
   "source": [
    "## Import Text"
   ]
  },
  {
   "cell_type": "code",
   "execution_count": 2,
   "metadata": {},
   "outputs": [],
   "source": [
    "with open(\"./trainingData/sherlockS.txt\", 'r', encoding='utf-8') as file:\n",
    "    text = file.read()"
   ]
  },
  {
   "cell_type": "markdown",
   "metadata": {},
   "source": [
    "## Tokenize Text"
   ]
  },
  {
   "cell_type": "code",
   "execution_count": 3,
   "metadata": {},
   "outputs": [],
   "source": [
    "tokenizer = Tokenizer()\n",
    "tokenizer.fit_on_texts([text])\n",
    "total_words = len(tokenizer.word_index) + 1"
   ]
  },
  {
   "cell_type": "code",
   "execution_count": 4,
   "metadata": {},
   "outputs": [],
   "source": [
    "input_sequences = []\n",
    "for line in text.split('\\n'):\n",
    "    token_list = tokenizer.texts_to_sequences([line])[0]\n",
    "    for i in range(1, len(token_list)):\n",
    "        n_gram_sequence = token_list[:i+1]\n",
    "        input_sequences.append(n_gram_sequence)"
   ]
  },
  {
   "cell_type": "code",
   "execution_count": 5,
   "metadata": {},
   "outputs": [],
   "source": [
    "max_sequence_len = max([len(seq) for seq in input_sequences])\n",
    "input_sequences = np.array(pad_sequences(input_sequences, maxlen=max_sequence_len, padding='pre'))"
   ]
  },
  {
   "cell_type": "code",
   "execution_count": 6,
   "metadata": {},
   "outputs": [],
   "source": [
    "X = input_sequences[:, :-1]\n",
    "y = input_sequences[:, -1]"
   ]
  },
  {
   "cell_type": "code",
   "execution_count": 7,
   "metadata": {},
   "outputs": [],
   "source": [
    "y = np.array(tf.keras.utils.to_categorical(y, num_classes=total_words))"
   ]
  },
  {
   "cell_type": "markdown",
   "metadata": {},
   "source": [
    "## Create Model Architecture"
   ]
  },
  {
   "cell_type": "code",
   "execution_count": 23,
   "metadata": {},
   "outputs": [
    {
     "name": "stdout",
     "output_type": "stream",
     "text": [
      "Model: \"sequential_4\"\n",
      "_________________________________________________________________\n",
      " Layer (type)                Output Shape              Param #   \n",
      "=================================================================\n",
      " dense_27 (Dense)            (None, 300)               4800      \n",
      "                                                                 \n",
      " dense_28 (Dense)            (None, 800)               240800    \n",
      "                                                                 \n",
      " dense_29 (Dense)            (None, 800)               640800    \n",
      "                                                                 \n",
      " dense_30 (Dense)            (None, 930)               744930    \n",
      "                                                                 \n",
      "=================================================================\n",
      "Total params: 1631330 (6.22 MB)\n",
      "Trainable params: 1631330 (6.22 MB)\n",
      "Non-trainable params: 0 (0.00 Byte)\n",
      "_________________________________________________________________\n",
      "None\n"
     ]
    }
   ],
   "source": [
    "model = Sequential()\n",
    "model.add(Dense(300, input_shape=(max_sequence_len-1,), activation='relu'))\n",
    "model.add(Dense(800, activation='relu'))\n",
    "model.add(Dense(800, activation='relu'))\n",
    "model.add(Dense(total_words, activation='softmax'))\n",
    "print(model.summary())"
   ]
  },
  {
   "cell_type": "markdown",
   "metadata": {},
   "source": [
    "## Train Model"
   ]
  },
  {
   "cell_type": "code",
   "execution_count": 24,
   "metadata": {},
   "outputs": [
    {
     "name": "stdout",
     "output_type": "stream",
     "text": [
      "Epoch 1/100\n",
      "71/71 [==============================] - 1s 8ms/step - loss: 13.1502 - accuracy: 0.0280\n",
      "Epoch 2/100\n",
      "71/71 [==============================] - 1s 8ms/step - loss: 5.8237 - accuracy: 0.0449\n",
      "Epoch 3/100\n",
      "71/71 [==============================] - 1s 8ms/step - loss: 5.3528 - accuracy: 0.0520\n",
      "Epoch 4/100\n",
      "71/71 [==============================] - 1s 8ms/step - loss: 4.9482 - accuracy: 0.0747\n",
      "Epoch 5/100\n",
      "71/71 [==============================] - 1s 8ms/step - loss: 4.6453 - accuracy: 0.0840\n",
      "Epoch 6/100\n",
      "71/71 [==============================] - 1s 8ms/step - loss: 4.3898 - accuracy: 0.0911\n",
      "Epoch 7/100\n",
      "71/71 [==============================] - 1s 9ms/step - loss: 4.2094 - accuracy: 0.1138\n",
      "Epoch 8/100\n",
      "71/71 [==============================] - 1s 8ms/step - loss: 4.0354 - accuracy: 0.1276\n",
      "Epoch 9/100\n",
      "71/71 [==============================] - 1s 8ms/step - loss: 3.8683 - accuracy: 0.1373\n",
      "Epoch 10/100\n",
      "71/71 [==============================] - 1s 8ms/step - loss: 3.8180 - accuracy: 0.1369\n",
      "Epoch 11/100\n",
      "71/71 [==============================] - 1s 8ms/step - loss: 3.6914 - accuracy: 0.1529\n",
      "Epoch 12/100\n",
      "71/71 [==============================] - 1s 8ms/step - loss: 3.5264 - accuracy: 0.1769\n",
      "Epoch 13/100\n",
      "71/71 [==============================] - 1s 8ms/step - loss: 3.4132 - accuracy: 0.1996\n",
      "Epoch 14/100\n",
      "71/71 [==============================] - 1s 8ms/step - loss: 3.3766 - accuracy: 0.1964\n",
      "Epoch 15/100\n",
      "71/71 [==============================] - 1s 8ms/step - loss: 3.2987 - accuracy: 0.2147\n",
      "Epoch 16/100\n",
      "71/71 [==============================] - 1s 8ms/step - loss: 3.1841 - accuracy: 0.2360\n",
      "Epoch 17/100\n",
      "71/71 [==============================] - 1s 8ms/step - loss: 3.0946 - accuracy: 0.2480\n",
      "Epoch 18/100\n",
      "71/71 [==============================] - 1s 8ms/step - loss: 3.0958 - accuracy: 0.2427\n",
      "Epoch 19/100\n",
      "71/71 [==============================] - 1s 8ms/step - loss: 2.9753 - accuracy: 0.2707\n",
      "Epoch 20/100\n",
      "71/71 [==============================] - 1s 8ms/step - loss: 2.8997 - accuracy: 0.2720\n",
      "Epoch 21/100\n",
      "71/71 [==============================] - 1s 8ms/step - loss: 2.8358 - accuracy: 0.2920\n",
      "Epoch 22/100\n",
      "71/71 [==============================] - 1s 8ms/step - loss: 2.7640 - accuracy: 0.3116\n",
      "Epoch 23/100\n",
      "71/71 [==============================] - 1s 8ms/step - loss: 2.7327 - accuracy: 0.3178\n",
      "Epoch 24/100\n",
      "71/71 [==============================] - 1s 8ms/step - loss: 2.7082 - accuracy: 0.3262\n",
      "Epoch 25/100\n",
      "71/71 [==============================] - 1s 8ms/step - loss: 2.7353 - accuracy: 0.3151\n",
      "Epoch 26/100\n",
      "71/71 [==============================] - 1s 8ms/step - loss: 2.6730 - accuracy: 0.3289\n",
      "Epoch 27/100\n",
      "71/71 [==============================] - 1s 8ms/step - loss: 2.5699 - accuracy: 0.3422\n",
      "Epoch 28/100\n",
      "71/71 [==============================] - 1s 8ms/step - loss: 2.5472 - accuracy: 0.3418\n",
      "Epoch 29/100\n",
      "71/71 [==============================] - 1s 8ms/step - loss: 2.5251 - accuracy: 0.3458\n",
      "Epoch 30/100\n",
      "71/71 [==============================] - 1s 8ms/step - loss: 2.5283 - accuracy: 0.3471\n",
      "Epoch 31/100\n",
      "71/71 [==============================] - 1s 8ms/step - loss: 2.4263 - accuracy: 0.3787\n",
      "Epoch 32/100\n",
      "71/71 [==============================] - 1s 8ms/step - loss: 2.3329 - accuracy: 0.3853\n",
      "Epoch 33/100\n",
      "71/71 [==============================] - 1s 8ms/step - loss: 2.2819 - accuracy: 0.4067\n",
      "Epoch 34/100\n",
      "71/71 [==============================] - 1s 8ms/step - loss: 2.2327 - accuracy: 0.4027\n",
      "Epoch 35/100\n",
      "71/71 [==============================] - 1s 8ms/step - loss: 2.3090 - accuracy: 0.3964\n",
      "Epoch 36/100\n",
      "71/71 [==============================] - 1s 8ms/step - loss: 2.2264 - accuracy: 0.4022\n",
      "Epoch 37/100\n",
      "71/71 [==============================] - 1s 8ms/step - loss: 2.2283 - accuracy: 0.4209\n",
      "Epoch 38/100\n",
      "71/71 [==============================] - 1s 8ms/step - loss: 2.1914 - accuracy: 0.4227\n",
      "Epoch 39/100\n",
      "71/71 [==============================] - 1s 8ms/step - loss: 2.1680 - accuracy: 0.4209\n",
      "Epoch 40/100\n",
      "71/71 [==============================] - 1s 8ms/step - loss: 2.1270 - accuracy: 0.4396\n",
      "Epoch 41/100\n",
      "71/71 [==============================] - 1s 8ms/step - loss: 2.0625 - accuracy: 0.4431\n",
      "Epoch 42/100\n",
      "71/71 [==============================] - 1s 8ms/step - loss: 2.0354 - accuracy: 0.4538\n",
      "Epoch 43/100\n",
      "71/71 [==============================] - 1s 8ms/step - loss: 1.9917 - accuracy: 0.4698\n",
      "Epoch 44/100\n",
      "71/71 [==============================] - 1s 8ms/step - loss: 1.9582 - accuracy: 0.4702\n",
      "Epoch 45/100\n",
      "71/71 [==============================] - 1s 8ms/step - loss: 1.9591 - accuracy: 0.4764\n",
      "Epoch 46/100\n",
      "71/71 [==============================] - 1s 8ms/step - loss: 1.8916 - accuracy: 0.4831\n",
      "Epoch 47/100\n",
      "71/71 [==============================] - 1s 8ms/step - loss: 1.8977 - accuracy: 0.4836\n",
      "Epoch 48/100\n",
      "71/71 [==============================] - 1s 8ms/step - loss: 1.8949 - accuracy: 0.4822\n",
      "Epoch 49/100\n",
      "71/71 [==============================] - 1s 8ms/step - loss: 1.8412 - accuracy: 0.4938\n",
      "Epoch 50/100\n",
      "71/71 [==============================] - 1s 8ms/step - loss: 1.8708 - accuracy: 0.4889\n",
      "Epoch 51/100\n",
      "71/71 [==============================] - 1s 8ms/step - loss: 1.8374 - accuracy: 0.5022\n",
      "Epoch 52/100\n",
      "71/71 [==============================] - 1s 8ms/step - loss: 1.8299 - accuracy: 0.4916\n",
      "Epoch 53/100\n",
      "71/71 [==============================] - 1s 8ms/step - loss: 1.8612 - accuracy: 0.4991\n",
      "Epoch 54/100\n",
      "71/71 [==============================] - 1s 8ms/step - loss: 1.8650 - accuracy: 0.4982\n",
      "Epoch 55/100\n",
      "71/71 [==============================] - 1s 8ms/step - loss: 1.9058 - accuracy: 0.4924\n",
      "Epoch 56/100\n",
      "71/71 [==============================] - 1s 8ms/step - loss: 1.8599 - accuracy: 0.4902\n",
      "Epoch 57/100\n",
      "71/71 [==============================] - 1s 8ms/step - loss: 1.8346 - accuracy: 0.4991\n",
      "Epoch 58/100\n",
      "71/71 [==============================] - 1s 8ms/step - loss: 1.7898 - accuracy: 0.5071\n",
      "Epoch 59/100\n",
      "71/71 [==============================] - 1s 8ms/step - loss: 1.7307 - accuracy: 0.5253\n",
      "Epoch 60/100\n",
      "71/71 [==============================] - 1s 8ms/step - loss: 1.6679 - accuracy: 0.5351\n",
      "Epoch 61/100\n",
      "71/71 [==============================] - 1s 8ms/step - loss: 1.6237 - accuracy: 0.5547\n",
      "Epoch 62/100\n",
      "71/71 [==============================] - 1s 9ms/step - loss: 1.6360 - accuracy: 0.5569\n",
      "Epoch 63/100\n",
      "71/71 [==============================] - 1s 8ms/step - loss: 1.6513 - accuracy: 0.5538\n",
      "Epoch 64/100\n",
      "71/71 [==============================] - 1s 9ms/step - loss: 1.7461 - accuracy: 0.5284\n",
      "Epoch 65/100\n",
      "71/71 [==============================] - 1s 8ms/step - loss: 1.7230 - accuracy: 0.5204\n",
      "Epoch 66/100\n",
      "71/71 [==============================] - 1s 8ms/step - loss: 1.6783 - accuracy: 0.5351\n",
      "Epoch 67/100\n",
      "71/71 [==============================] - 1s 8ms/step - loss: 1.5710 - accuracy: 0.5582\n",
      "Epoch 68/100\n",
      "71/71 [==============================] - 1s 9ms/step - loss: 1.5715 - accuracy: 0.5684\n",
      "Epoch 69/100\n",
      "71/71 [==============================] - 1s 9ms/step - loss: 1.5279 - accuracy: 0.5689\n",
      "Epoch 70/100\n",
      "71/71 [==============================] - 1s 8ms/step - loss: 1.5340 - accuracy: 0.5791\n",
      "Epoch 71/100\n",
      "71/71 [==============================] - 1s 9ms/step - loss: 1.4912 - accuracy: 0.5720\n",
      "Epoch 72/100\n",
      "71/71 [==============================] - 1s 8ms/step - loss: 1.4899 - accuracy: 0.5787\n",
      "Epoch 73/100\n",
      "71/71 [==============================] - 1s 8ms/step - loss: 1.4989 - accuracy: 0.5840\n",
      "Epoch 74/100\n",
      "71/71 [==============================] - 1s 8ms/step - loss: 1.4659 - accuracy: 0.5871\n",
      "Epoch 75/100\n",
      "71/71 [==============================] - 1s 8ms/step - loss: 1.4294 - accuracy: 0.5929\n",
      "Epoch 76/100\n",
      "71/71 [==============================] - 1s 8ms/step - loss: 1.4041 - accuracy: 0.6009\n",
      "Epoch 77/100\n",
      "71/71 [==============================] - 1s 8ms/step - loss: 1.3782 - accuracy: 0.5996\n",
      "Epoch 78/100\n",
      "71/71 [==============================] - 1s 8ms/step - loss: 1.3497 - accuracy: 0.6093\n",
      "Epoch 79/100\n",
      "71/71 [==============================] - 1s 8ms/step - loss: 1.3527 - accuracy: 0.6076\n",
      "Epoch 80/100\n",
      "71/71 [==============================] - 1s 8ms/step - loss: 1.4385 - accuracy: 0.5969\n",
      "Epoch 81/100\n",
      "71/71 [==============================] - 1s 8ms/step - loss: 1.4627 - accuracy: 0.5942\n",
      "Epoch 82/100\n",
      "71/71 [==============================] - 1s 8ms/step - loss: 1.5451 - accuracy: 0.5636\n",
      "Epoch 83/100\n",
      "71/71 [==============================] - 1s 8ms/step - loss: 1.5717 - accuracy: 0.5662\n",
      "Epoch 84/100\n",
      "71/71 [==============================] - 1s 8ms/step - loss: 1.6551 - accuracy: 0.5511\n",
      "Epoch 85/100\n",
      "71/71 [==============================] - 1s 8ms/step - loss: 1.6055 - accuracy: 0.5547\n",
      "Epoch 86/100\n",
      "71/71 [==============================] - 1s 8ms/step - loss: 1.4505 - accuracy: 0.5836\n",
      "Epoch 87/100\n",
      "71/71 [==============================] - 1s 8ms/step - loss: 1.3773 - accuracy: 0.6076\n",
      "Epoch 88/100\n",
      "71/71 [==============================] - 1s 8ms/step - loss: 1.3107 - accuracy: 0.6151\n",
      "Epoch 89/100\n",
      "71/71 [==============================] - 1s 8ms/step - loss: 1.3127 - accuracy: 0.6311\n",
      "Epoch 90/100\n",
      "71/71 [==============================] - 1s 8ms/step - loss: 1.2428 - accuracy: 0.6342\n",
      "Epoch 91/100\n",
      "71/71 [==============================] - 1s 8ms/step - loss: 1.2429 - accuracy: 0.6356\n",
      "Epoch 92/100\n",
      "71/71 [==============================] - 1s 8ms/step - loss: 1.2417 - accuracy: 0.6347\n",
      "Epoch 93/100\n",
      "71/71 [==============================] - 1s 8ms/step - loss: 1.1883 - accuracy: 0.6364\n",
      "Epoch 94/100\n",
      "71/71 [==============================] - 1s 8ms/step - loss: 1.2301 - accuracy: 0.6471\n",
      "Epoch 95/100\n",
      "71/71 [==============================] - 1s 8ms/step - loss: 1.1989 - accuracy: 0.6387\n",
      "Epoch 96/100\n",
      "71/71 [==============================] - 1s 8ms/step - loss: 1.1743 - accuracy: 0.6507\n",
      "Epoch 97/100\n",
      "71/71 [==============================] - 1s 8ms/step - loss: 1.1858 - accuracy: 0.6569\n",
      "Epoch 98/100\n",
      "71/71 [==============================] - 1s 8ms/step - loss: 1.2127 - accuracy: 0.6493\n",
      "Epoch 99/100\n",
      "71/71 [==============================] - 1s 8ms/step - loss: 1.1763 - accuracy: 0.6578\n",
      "Epoch 100/100\n",
      "71/71 [==============================] - 1s 8ms/step - loss: 1.1909 - accuracy: 0.6556\n"
     ]
    },
    {
     "data": {
      "text/plain": [
       "<keras.src.callbacks.History at 0x1fab65763d0>"
      ]
     },
     "execution_count": 24,
     "metadata": {},
     "output_type": "execute_result"
    }
   ],
   "source": [
    "model.compile(loss='categorical_crossentropy', optimizer='adam', metrics=['accuracy'])\n",
    "model.fit(X, y, epochs=100, verbose=1)"
   ]
  },
  {
   "cell_type": "markdown",
   "metadata": {},
   "source": [
    "## Save Model for JS"
   ]
  },
  {
   "cell_type": "code",
   "execution_count": 22,
   "metadata": {},
   "outputs": [],
   "source": [
    "\n",
    "output_dir = \"./tfjs_models/FFNN1\" \n",
    "tfjs.converters.save_keras_model(model, output_dir)"
   ]
  },
  {
   "cell_type": "markdown",
   "metadata": {},
   "source": [
    "## Save word index"
   ]
  },
  {
   "cell_type": "code",
   "execution_count": 11,
   "metadata": {},
   "outputs": [],
   "source": [
    "wordIndex = {}\n",
    "for word in tokenizer.word_index:\n",
    "    wordIndex[word] = tokenizer.word_index[word]\n",
    "\n",
    "with open('./tokenizer/wordIndex.json', 'w', encoding='utf-8') as f:\n",
    "    f.write(json.dumps(wordIndex, ensure_ascii=False))"
   ]
  },
  {
   "cell_type": "markdown",
   "metadata": {},
   "source": [
    "## Save Max Sequence Length"
   ]
  },
  {
   "cell_type": "code",
   "execution_count": 12,
   "metadata": {},
   "outputs": [],
   "source": [
    "with open('./tokenizer/max_sequence_len.txt', 'w') as f:\n",
    "    f.write(str(max_sequence_len))"
   ]
  }
 ],
 "metadata": {
  "kernelspec": {
   "display_name": "Python 3",
   "language": "python",
   "name": "python3"
  },
  "language_info": {
   "codemirror_mode": {
    "name": "ipython",
    "version": 3
   },
   "file_extension": ".py",
   "mimetype": "text/x-python",
   "name": "python",
   "nbconvert_exporter": "python",
   "pygments_lexer": "ipython3",
   "version": "3.11.5"
  },
  "orig_nbformat": 4,
  "polyglot_notebook": {
   "kernelInfo": {
    "defaultKernelName": "csharp",
    "items": [
     {
      "aliases": [],
      "name": "csharp"
     }
    ]
   }
  }
 },
 "nbformat": 4,
 "nbformat_minor": 2
}
